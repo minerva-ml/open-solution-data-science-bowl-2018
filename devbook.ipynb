{
 "cells": [
  {
   "cell_type": "code",
   "execution_count": null,
   "metadata": {},
   "outputs": [],
   "source": [
    "%matplotlib inline\n",
    "import matplotlib.pyplot as plt\n",
    "import ipywidgets as ipy"
   ]
  },
  {
   "cell_type": "code",
   "execution_count": null,
   "metadata": {},
   "outputs": [],
   "source": [
    "\n",
    "@ipy.interact(i=ipy.widgets.IntSlider())\n",
    "def f(i):\n",
    "    img_m = plt.imread('/mnt/ml-team/dsb_2018/kuba/debug/proba_map{}.png'.format(i))\n",
    "    img_b = plt.imread('/mnt/ml-team/dsb_2018/kuba/debug/binary_map{}.png'.format(i))\n",
    "    plt.subplot(1,2,1)\n",
    "    plt.imshow(img_m)\n",
    "    plt.subplot(1,2,2)\n",
    "    plt.imshow(img_b)\n",
    "    plt.show()"
   ]
  },
  {
   "cell_type": "code",
   "execution_count": 1,
   "metadata": {},
   "outputs": [
    {
     "name": "stdout",
     "output_type": "stream",
     "text": [
      "32\n",
      "64\n",
      "128\n",
      "64\n",
      "128\n",
      "256\n"
     ]
    }
   ],
   "source": [
    "%load_ext autoreload\n",
    "%autoreload 2\n",
    "\n",
    "from steps.pytorch.architectures.unet import UNet\n",
    "\n",
    "\n",
    "params = {'n_filters': 32,\n",
    "  'conv_kernel': 3,\n",
    "  'pool_kernel': 2,\n",
    "  'pool_stride': 1,\n",
    "  'repeat_blocks': 3,\n",
    "  'batch_norm': 0, # 0 or 1\n",
    "          \n",
    "  'dropout': 0.1,  # interval (0.0; 1.0)\n",
    "  'num_classes': 2,\n",
    "  'in_channels': 3}\n",
    "unet = UNet(**params)\n"
   ]
  },
  {
   "cell_type": "code",
   "execution_count": 2,
   "metadata": {},
   "outputs": [
    {
     "data": {
      "text/plain": [
       "ModuleList (\n",
       "  (0): DownConv (\n",
       "    (down_conv): Sequential (\n",
       "      (0): Conv2d(3, 3, kernel_size=(3, 3), stride=(1, 1))\n",
       "      (1): ReLU ()\n",
       "      (2): Conv2d(3, 3, kernel_size=(3, 3), stride=(1, 1))\n",
       "      (3): ReLU ()\n",
       "      (4): Dropout (p = 0.1)\n",
       "    )\n",
       "  )\n",
       "  (1): DownConv (\n",
       "    (down_conv): Sequential (\n",
       "      (0): Conv2d(32, 32, kernel_size=(3, 3), stride=(1, 1))\n",
       "      (1): ReLU ()\n",
       "      (2): Conv2d(32, 32, kernel_size=(3, 3), stride=(1, 1))\n",
       "      (3): ReLU ()\n",
       "      (4): Dropout (p = 0.1)\n",
       "    )\n",
       "  )\n",
       "  (2): DownConv (\n",
       "    (down_conv): Sequential (\n",
       "      (0): Conv2d(64, 64, kernel_size=(3, 3), stride=(1, 1))\n",
       "      (1): ReLU ()\n",
       "      (2): Conv2d(64, 64, kernel_size=(3, 3), stride=(1, 1))\n",
       "      (3): ReLU ()\n",
       "      (4): Dropout (p = 0.1)\n",
       "    )\n",
       "  )\n",
       ")"
      ]
     },
     "execution_count": 2,
     "metadata": {},
     "output_type": "execute_result"
    }
   ],
   "source": [
    "unet.down_convs"
   ]
  },
  {
   "cell_type": "code",
   "execution_count": null,
   "metadata": {},
   "outputs": [],
   "source": []
  }
 ],
 "metadata": {
  "kernelspec": {
   "display_name": "dl_py3",
   "language": "python",
   "name": "dl_py3"
  },
  "language_info": {
   "codemirror_mode": {
    "name": "ipython",
    "version": 3
   },
   "file_extension": ".py",
   "mimetype": "text/x-python",
   "name": "python",
   "nbconvert_exporter": "python",
   "pygments_lexer": "ipython3",
   "version": "3.5.2"
  }
 },
 "nbformat": 4,
 "nbformat_minor": 2
}
