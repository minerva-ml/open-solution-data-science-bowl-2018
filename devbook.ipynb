{
 "cells": [
  {
   "cell_type": "code",
   "execution_count": null,
   "metadata": {},
   "outputs": [],
   "source": [
    "%matplotlib inline\n",
    "\n",
    "import os\n",
    "\n",
    "import ipywidgets as ipy\n",
    "import matplotlib.pyplot as plt\n",
    "import numpy as np\n",
    "import pandas as pd\n",
    "from sklearn.externals import joblib\n",
    "from skimage.color import label2rgb\n",
    "\n",
    "DATA_DIR = '/public/dsb_2018_data'\n",
    "PREDICTION_TRAIN = 'predictions/unet/train/outputs'\n",
    "PREDICTION_VALID = 'predictions/unet/valid/outputs'\n",
    "PREDICTION_TEST = 'predictions/unet/test/outputs'\n",
    "\n",
    "SUBMISSION_PATH = os.path.join('/output/submission.csv')"
   ]
  },
  {
   "cell_type": "code",
   "execution_count": null,
   "metadata": {},
   "outputs": [],
   "source": [
    "meta = pd.read_csv(os.path.join(DATA_DIR,'stage1_metadata.csv'))\n",
    "meta_train = meta[meta['is_train']==1 & (~meta['vgg_features_clusters'].isin([0,1]))]\n",
    "meta_valid = meta[meta['is_train']==1 & (meta['vgg_features_clusters'].isin([0,1]))]\n",
    "meta_test = meta[meta['is_train']==0]"
   ]
  },
  {
   "cell_type": "code",
   "execution_count": null,
   "metadata": {},
   "outputs": [],
   "source": [
    "def plot_with_labels(mask, contour, postprocessed, label, idx):\n",
    "    plt.figure(figsize=(16,12))\n",
    "    plt.subplot(141)\n",
    "    plt.imshow(mask[idx])\n",
    "    plt.subplot(142)\n",
    "    plt.imshow(contour[idx])\n",
    "    plt.subplot(143)\n",
    "    plt.imshow(label2rgb(postprocessed[idx]))\n",
    "    plt.subplot(144)\n",
    "    plt.imshow(label2rgb(label[idx]))\n",
    "    plt.show()\n",
    "    \n",
    "def plot_predictions(mask, contour, postprocessed, idx):\n",
    "    plt.figure(figsize=(16,12))\n",
    "    plt.subplot(131)\n",
    "    plt.imshow(mask[idx])\n",
    "    plt.subplot(132)\n",
    "    plt.imshow(contour[idx])\n",
    "    plt.subplot(133)\n",
    "    plt.imshow(label2rgb(postprocessed[idx]))\n",
    "    plt.show()"
   ]
  },
  {
   "cell_type": "markdown",
   "metadata": {},
   "source": [
    "# Predictions and labels on train"
   ]
  },
  {
   "cell_type": "code",
   "execution_count": null,
   "metadata": {},
   "outputs": [],
   "source": [
    "labels_train = joblib.load(os.path.join(DATA_DIR,'ground_truth','train','labels.pkl'))\n",
    "masks_train = joblib.load(os.path.join(DATA_DIR,PREDICTION_TRAIN,'unet_multitask'))['mask_prediction']\n",
    "contours_train = joblib.load(os.path.join(DATA_DIR,PREDICTION_TRAIN,'unet_multitask'))['contour_prediction']\n",
    "postprocessed_train = joblib.load(os.path.join(DATA_DIR,PREDICTION_TRAIN,'binary_fill'))['filled_images']"
   ]
  },
  {
   "cell_type": "code",
   "execution_count": null,
   "metadata": {},
   "outputs": [],
   "source": [
    "ipy.interact(plot_with_labels, mask = ipy.fixed(masks_train),\n",
    "              contour = ipy.fixed(contours_train),\n",
    "              postprocessed = ipy.fixed(postprocessed_train),\n",
    "              label = ipy.fixed(labels_train),\n",
    "              idx = ipy.IntSlider(min=0, max=50, value=0, step=1))"
   ]
  },
  {
   "cell_type": "markdown",
   "metadata": {},
   "source": [
    "# Predictions and labels on valid"
   ]
  },
  {
   "cell_type": "code",
   "execution_count": null,
   "metadata": {},
   "outputs": [],
   "source": [
    "labels_valid = joblib.load(os.path.join(DATA_DIR,'ground_truth','valid','labels.pkl'))\n",
    "masks_valid = joblib.load(os.path.join(DATA_DIR,PREDICTION_VALID,'unet_multitask'))['mask_prediction']\n",
    "contours_valid = joblib.load(os.path.join(DATA_DIR,PREDICTION_VALID,'unet_multitask'))['contour_prediction']\n",
    "postprocessed_valid = joblib.load(os.path.join(DATA_DIR,PREDICTION_VALID,'binary_fill'))['filled_images']"
   ]
  },
  {
   "cell_type": "code",
   "execution_count": null,
   "metadata": {},
   "outputs": [],
   "source": [
    "ipy.interact(plot_with_labels, mask = ipy.fixed(masks_valid),\n",
    "              contour = ipy.fixed(contours_valid),\n",
    "              postprocessed = ipy.fixed(postprocessed_valid),\n",
    "              label = ipy.fixed(labels_valid),\n",
    "              idx = ipy.IntSlider(min=0, max=50, value=0, step=1))"
   ]
  },
  {
   "cell_type": "markdown",
   "metadata": {},
   "source": [
    "# Predictions and submission on test"
   ]
  },
  {
   "cell_type": "code",
   "execution_count": null,
   "metadata": {},
   "outputs": [],
   "source": [
    "masks_test = joblib.load(os.path.join(DATA_DIR,PREDICTION_TEST,'unet_multitask'))['mask_prediction']\n",
    "contours_test = joblib.load(os.path.join(DATA_DIR,PREDICTION_TEST,'unet_multitask'))['contour_prediction']\n",
    "postprocessed_test = joblib.load(os.path.join(DATA_DIR,PREDICTION_TEST,'binary_fill'))['filled_images']"
   ]
  },
  {
   "cell_type": "code",
   "execution_count": null,
   "metadata": {},
   "outputs": [],
   "source": [
    "ipy.interact(plot_predictions, mask = ipy.fixed(masks_test),\n",
    "              contour = ipy.fixed(contours_test),\n",
    "              postprocessed = ipy.fixed(postprocessed_test),\n",
    "              idx = ipy.IntSlider(min=0, max=50, value=0, step=1))"
   ]
  },
  {
   "cell_type": "code",
   "execution_count": null,
   "metadata": {},
   "outputs": [],
   "source": [
    "def decompose(labeled):\n",
    "\n",
    "    nr_true = labeled.max()\n",
    "    masks = []\n",
    "    for i in range(1, nr_true + 1):\n",
    "        msk = labeled.copy()\n",
    "        msk[msk != i] = 0.\n",
    "        msk[msk == i] = 255.\n",
    "        masks.append(msk)\n",
    "\n",
    "    if not masks:\n",
    "        return [labeled]\n",
    "    else:\n",
    "        return masks\n",
    "\n",
    "def run_length_encoding(x):\n",
    "    dots = np.where(x.T.flatten() == 1)[0] \n",
    "    run_lengths = []\n",
    "    prev = -2\n",
    "    for b in dots:\n",
    "        if (b > prev + 1): run_lengths.extend((b + 1, 0))\n",
    "        run_lengths[-1] += 1\n",
    "        prev = b\n",
    "    return run_lengths\n",
    "    \n",
    "def generate_submission(predictions, meta):\n",
    "    image_ids, encodings = [], []\n",
    "    for image_id, prediction in zip(meta['ImageId'].values, predictions):\n",
    "        for mask in decompose(prediction):\n",
    "            image_ids.append(image_id)\n",
    "            encodings.append(' '.join(str(rle) for rle in run_length_encoding(mask > 128.)))\n",
    "\n",
    "    submission = pd.DataFrame({'ImageId': image_ids, 'EncodedPixels': encodings})\n",
    "    return submission"
   ]
  },
  {
   "cell_type": "code",
   "execution_count": null,
   "metadata": {},
   "outputs": [],
   "source": [
    "submission = generate_submission(postprocessed_test, meta_test)\n",
    "submission.head()"
   ]
  },
  {
   "cell_type": "code",
   "execution_count": null,
   "metadata": {},
   "outputs": [],
   "source": [
    "submission.to_csv(SUBMISSION_PATH, index=None)"
   ]
  },
  {
   "cell_type": "code",
   "execution_count": null,
   "metadata": {},
   "outputs": [],
   "source": []
  }
 ],
 "metadata": {
  "kernelspec": {
   "display_name": "dl_py3",
   "language": "python",
   "name": "dl_py3"
  },
  "language_info": {
   "codemirror_mode": {
    "name": "ipython",
    "version": 3
   },
   "file_extension": ".py",
   "mimetype": "text/x-python",
   "name": "python",
   "nbconvert_exporter": "python",
   "pygments_lexer": "ipython3",
   "version": "3.5.2"
  }
 },
 "nbformat": 4,
 "nbformat_minor": 2
}
