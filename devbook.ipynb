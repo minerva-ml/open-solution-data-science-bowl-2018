{
 "cells": [
  {
   "cell_type": "code",
   "execution_count": null,
   "metadata": {},
   "outputs": [],
   "source": [
    "import pandas as pd\n",
    "import random \n",
    "from string import ascii_uppercase\n",
    "\n",
    "def random_string_generator(n, k):\n",
    "    random_strings = []\n",
    "    for _ in range(n):\n",
    "        random_strings.append(''.join(random.choice(ascii_uppercase) for i in range(k)))\n",
    "    return random_strings\n",
    "\n",
    "def random_ints_generator(n, max_val=1000):\n",
    "    return [int(max_val*random.random())+1 for i in range(n)]\n",
    "\n",
    "N_TRAIN = 1000\n",
    "data = pd.DataFrame(columns=['image_filepath','mask_filepath','width','height','image_id'])\n",
    "data['image_filepath'] = random_string_generator(N_TRAIN, 10)\n",
    "data['mask_filepath'] = random_string_generator(N_TRAIN, 10)\n",
    "data['width'] = random_ints_generator(N_TRAIN, 100)\n",
    "data['height'] = random_ints_generator(N_TRAIN, 100)\n",
    "data['image_id'] = random_ints_generator(N_TRAIN, 10000)\n",
    "display(data.head())\n",
    "data.to_csv('/mnt/ml-team/dsb_2018/kuba/mocked_data/metadata/train.csv',index=None)\n",
    "\n",
    "N_TEST = 100\n",
    "data = pd.DataFrame(columns=['image_filepath','width','height','image_id'])\n",
    "data['image_filepath'] = random_string_generator(N_TEST, 10)\n",
    "data['width'] = random_ints_generator(N_TEST, 100)\n",
    "data['height'] = random_ints_generator(N_TEST, 100)\n",
    "data['image_id'] = random_ints_generator(N_TEST, 10000)\n",
    "display(data.head())\n",
    "data.to_csv('/mnt/ml-team/dsb_2018/kuba/mocked_data/metadata/test.csv',index=None)"
   ]
  },
  {
   "cell_type": "code",
   "execution_count": null,
   "metadata": {},
   "outputs": [],
   "source": [
    "data.describe()"
   ]
  },
  {
   "cell_type": "code",
   "execution_count": null,
   "metadata": {},
   "outputs": [],
   "source": [
    "! ls /mnt/ml-team/dsb_2018/data/stage1_train/00071198d059ba7f5914a526d124d28e6d010c92466da21d4a04cd5413362552/masks"
   ]
  },
  {
   "cell_type": "code",
   "execution_count": null,
   "metadata": {},
   "outputs": [],
   "source": [
    "%matplotlib inline\n",
    "import matplotlib.pyplot as plt"
   ]
  },
  {
   "cell_type": "code",
   "execution_count": null,
   "metadata": {},
   "outputs": [],
   "source": [
    "img = plt.imread('/mnt/ml-team/dsb_2018/kuba/mocked_data/masks_overlayed/stage1_train/00071198d059ba7f5914a526d124d28e6d010c92466da21d4a04cd5413362552.png')"
   ]
  },
  {
   "cell_type": "code",
   "execution_count": null,
   "metadata": {},
   "outputs": [],
   "source": [
    "plt.imshow(img)"
   ]
  },
  {
   "cell_type": "code",
   "execution_count": 6,
   "metadata": {},
   "outputs": [
    {
     "data": {
      "text/html": [
       "<div>\n",
       "<style scoped>\n",
       "    .dataframe tbody tr th:only-of-type {\n",
       "        vertical-align: middle;\n",
       "    }\n",
       "\n",
       "    .dataframe tbody tr th {\n",
       "        vertical-align: top;\n",
       "    }\n",
       "\n",
       "    .dataframe thead th {\n",
       "        text-align: right;\n",
       "    }\n",
       "</style>\n",
       "<table border=\"1\" class=\"dataframe\">\n",
       "  <thead>\n",
       "    <tr style=\"text-align: right;\">\n",
       "      <th></th>\n",
       "      <th>ImageId</th>\n",
       "      <th>EncodedPixels</th>\n",
       "    </tr>\n",
       "  </thead>\n",
       "  <tbody>\n",
       "    <tr>\n",
       "      <th>0</th>\n",
       "      <td>0114f484a16c152baa2d82fdd43740880a762c93f436c8...</td>\n",
       "      <td>1 1</td>\n",
       "    </tr>\n",
       "    <tr>\n",
       "      <th>1</th>\n",
       "      <td>0999dab07b11bc85fb8464fc36c947fbd8b5d6ec498173...</td>\n",
       "      <td>1 1</td>\n",
       "    </tr>\n",
       "    <tr>\n",
       "      <th>2</th>\n",
       "      <td>0a849e0eb15faa8a6d7329c3dd66aabe9a294cccb52ed3...</td>\n",
       "      <td>1 1</td>\n",
       "    </tr>\n",
       "    <tr>\n",
       "      <th>3</th>\n",
       "      <td>0e132f71c8b4875c3c2dd7a22997468a3e842b46aa9bd4...</td>\n",
       "      <td>1 1</td>\n",
       "    </tr>\n",
       "    <tr>\n",
       "      <th>4</th>\n",
       "      <td>0ed3555a4bd48046d3b63d8baf03a5aa97e523aa483aaa...</td>\n",
       "      <td>1 1</td>\n",
       "    </tr>\n",
       "  </tbody>\n",
       "</table>\n",
       "</div>"
      ],
      "text/plain": [
       "                                             ImageId EncodedPixels\n",
       "0  0114f484a16c152baa2d82fdd43740880a762c93f436c8...           1 1\n",
       "1  0999dab07b11bc85fb8464fc36c947fbd8b5d6ec498173...           1 1\n",
       "2  0a849e0eb15faa8a6d7329c3dd66aabe9a294cccb52ed3...           1 1\n",
       "3  0e132f71c8b4875c3c2dd7a22997468a3e842b46aa9bd4...           1 1\n",
       "4  0ed3555a4bd48046d3b63d8baf03a5aa97e523aa483aaa...           1 1"
      ]
     },
     "execution_count": 6,
     "metadata": {},
     "output_type": "execute_result"
    }
   ],
   "source": [
    "submission = pd.read_csv('/mnt/ml-team/dsb_2018/data/stage1_sample_submission.csv')\n",
    "submission.head()"
   ]
  },
  {
   "cell_type": "code",
   "execution_count": null,
   "metadata": {},
   "outputs": [],
   "source": [
    "submission['EncodedPixels'].values"
   ]
  },
  {
   "cell_type": "code",
   "execution_count": 7,
   "metadata": {},
   "outputs": [
    {
     "data": {
      "text/html": [
       "<div>\n",
       "<style scoped>\n",
       "    .dataframe tbody tr th:only-of-type {\n",
       "        vertical-align: middle;\n",
       "    }\n",
       "\n",
       "    .dataframe tbody tr th {\n",
       "        vertical-align: top;\n",
       "    }\n",
       "\n",
       "    .dataframe thead th {\n",
       "        text-align: right;\n",
       "    }\n",
       "</style>\n",
       "<table border=\"1\" class=\"dataframe\">\n",
       "  <thead>\n",
       "    <tr style=\"text-align: right;\">\n",
       "      <th></th>\n",
       "      <th>ImageId</th>\n",
       "      <th>file_path_image</th>\n",
       "      <th>file_path_masks</th>\n",
       "      <th>file_path_mask</th>\n",
       "      <th>is_train</th>\n",
       "      <th>width</th>\n",
       "      <th>height</th>\n",
       "      <th>n_nuclei</th>\n",
       "    </tr>\n",
       "  </thead>\n",
       "  <tbody>\n",
       "    <tr>\n",
       "      <th>670</th>\n",
       "      <td>0114f484a16c152baa2d82fdd43740880a762c93f436c8...</td>\n",
       "      <td>/mnt/ml-team/dsb_2018/data/stage1_test/0114f48...</td>\n",
       "      <td>NaN</td>\n",
       "      <td>NaN</td>\n",
       "      <td>0</td>\n",
       "      <td>256</td>\n",
       "      <td>256</td>\n",
       "      <td>NaN</td>\n",
       "    </tr>\n",
       "    <tr>\n",
       "      <th>671</th>\n",
       "      <td>0999dab07b11bc85fb8464fc36c947fbd8b5d6ec498173...</td>\n",
       "      <td>/mnt/ml-team/dsb_2018/data/stage1_test/0999dab...</td>\n",
       "      <td>NaN</td>\n",
       "      <td>NaN</td>\n",
       "      <td>0</td>\n",
       "      <td>253</td>\n",
       "      <td>519</td>\n",
       "      <td>NaN</td>\n",
       "    </tr>\n",
       "    <tr>\n",
       "      <th>672</th>\n",
       "      <td>0a849e0eb15faa8a6d7329c3dd66aabe9a294cccb52ed3...</td>\n",
       "      <td>/mnt/ml-team/dsb_2018/data/stage1_test/0a849e0...</td>\n",
       "      <td>NaN</td>\n",
       "      <td>NaN</td>\n",
       "      <td>0</td>\n",
       "      <td>256</td>\n",
       "      <td>256</td>\n",
       "      <td>NaN</td>\n",
       "    </tr>\n",
       "    <tr>\n",
       "      <th>673</th>\n",
       "      <td>0e132f71c8b4875c3c2dd7a22997468a3e842b46aa9bd4...</td>\n",
       "      <td>/mnt/ml-team/dsb_2018/data/stage1_test/0e132f7...</td>\n",
       "      <td>NaN</td>\n",
       "      <td>NaN</td>\n",
       "      <td>0</td>\n",
       "      <td>256</td>\n",
       "      <td>256</td>\n",
       "      <td>NaN</td>\n",
       "    </tr>\n",
       "    <tr>\n",
       "      <th>674</th>\n",
       "      <td>0ed3555a4bd48046d3b63d8baf03a5aa97e523aa483aaa...</td>\n",
       "      <td>/mnt/ml-team/dsb_2018/data/stage1_test/0ed3555...</td>\n",
       "      <td>NaN</td>\n",
       "      <td>NaN</td>\n",
       "      <td>0</td>\n",
       "      <td>256</td>\n",
       "      <td>256</td>\n",
       "      <td>NaN</td>\n",
       "    </tr>\n",
       "  </tbody>\n",
       "</table>\n",
       "</div>"
      ],
      "text/plain": [
       "                                               ImageId  \\\n",
       "670  0114f484a16c152baa2d82fdd43740880a762c93f436c8...   \n",
       "671  0999dab07b11bc85fb8464fc36c947fbd8b5d6ec498173...   \n",
       "672  0a849e0eb15faa8a6d7329c3dd66aabe9a294cccb52ed3...   \n",
       "673  0e132f71c8b4875c3c2dd7a22997468a3e842b46aa9bd4...   \n",
       "674  0ed3555a4bd48046d3b63d8baf03a5aa97e523aa483aaa...   \n",
       "\n",
       "                                       file_path_image file_path_masks  \\\n",
       "670  /mnt/ml-team/dsb_2018/data/stage1_test/0114f48...             NaN   \n",
       "671  /mnt/ml-team/dsb_2018/data/stage1_test/0999dab...             NaN   \n",
       "672  /mnt/ml-team/dsb_2018/data/stage1_test/0a849e0...             NaN   \n",
       "673  /mnt/ml-team/dsb_2018/data/stage1_test/0e132f7...             NaN   \n",
       "674  /mnt/ml-team/dsb_2018/data/stage1_test/0ed3555...             NaN   \n",
       "\n",
       "    file_path_mask  is_train  width  height  n_nuclei  \n",
       "670            NaN         0    256     256       NaN  \n",
       "671            NaN         0    253     519       NaN  \n",
       "672            NaN         0    256     256       NaN  \n",
       "673            NaN         0    256     256       NaN  \n",
       "674            NaN         0    256     256       NaN  "
      ]
     },
     "execution_count": 7,
     "metadata": {},
     "output_type": "execute_result"
    }
   ],
   "source": [
    "import pandas as pd\n",
    "meta = pd.read_csv('/mnt/ml-team/dsb_2018/files/stage1_metadata.csv')\n",
    "meta_test = meta[meta['is_train']==0]\n",
    "meta_test.head()"
   ]
  },
  {
   "cell_type": "code",
   "execution_count": 8,
   "metadata": {},
   "outputs": [
    {
     "data": {
      "text/html": [
       "<div>\n",
       "<style scoped>\n",
       "    .dataframe tbody tr th:only-of-type {\n",
       "        vertical-align: middle;\n",
       "    }\n",
       "\n",
       "    .dataframe tbody tr th {\n",
       "        vertical-align: top;\n",
       "    }\n",
       "\n",
       "    .dataframe thead th {\n",
       "        text-align: right;\n",
       "    }\n",
       "</style>\n",
       "<table border=\"1\" class=\"dataframe\">\n",
       "  <thead>\n",
       "    <tr style=\"text-align: right;\">\n",
       "      <th></th>\n",
       "      <th>ImageId</th>\n",
       "      <th>EncodedPixels</th>\n",
       "    </tr>\n",
       "  </thead>\n",
       "  <tbody>\n",
       "    <tr>\n",
       "      <th>0</th>\n",
       "      <td>0114f484a16c152baa2d82fdd43740880a762c93f436c8...</td>\n",
       "      <td>1 65536</td>\n",
       "    </tr>\n",
       "    <tr>\n",
       "      <th>1</th>\n",
       "      <td>0999dab07b11bc85fb8464fc36c947fbd8b5d6ec498173...</td>\n",
       "      <td>1 131307</td>\n",
       "    </tr>\n",
       "    <tr>\n",
       "      <th>2</th>\n",
       "      <td>0a849e0eb15faa8a6d7329c3dd66aabe9a294cccb52ed3...</td>\n",
       "      <td>1 65536</td>\n",
       "    </tr>\n",
       "    <tr>\n",
       "      <th>3</th>\n",
       "      <td>0e132f71c8b4875c3c2dd7a22997468a3e842b46aa9bd4...</td>\n",
       "      <td>1 65536</td>\n",
       "    </tr>\n",
       "    <tr>\n",
       "      <th>4</th>\n",
       "      <td>0ed3555a4bd48046d3b63d8baf03a5aa97e523aa483aaa...</td>\n",
       "      <td>1 65536</td>\n",
       "    </tr>\n",
       "  </tbody>\n",
       "</table>\n",
       "</div>"
      ],
      "text/plain": [
       "                                             ImageId EncodedPixels\n",
       "0  0114f484a16c152baa2d82fdd43740880a762c93f436c8...       1 65536\n",
       "1  0999dab07b11bc85fb8464fc36c947fbd8b5d6ec498173...      1 131307\n",
       "2  0a849e0eb15faa8a6d7329c3dd66aabe9a294cccb52ed3...       1 65536\n",
       "3  0e132f71c8b4875c3c2dd7a22997468a3e842b46aa9bd4...       1 65536\n",
       "4  0ed3555a4bd48046d3b63d8baf03a5aa97e523aa483aaa...       1 65536"
      ]
     },
     "execution_count": 8,
     "metadata": {},
     "output_type": "execute_result"
    }
   ],
   "source": [
    "submit = pd.read_csv('/mnt/ml-team/dsb_2018/kuba/trained_pipelines/dummy_pipeline/submission.csv')\n",
    "submit.head()"
   ]
  },
  {
   "cell_type": "code",
   "execution_count": null,
   "metadata": {},
   "outputs": [],
   "source": [
    "img = plt.imread(meta['file_path_mask'].values[0])\n",
    "plt.imshow(img)"
   ]
  },
  {
   "cell_type": "code",
   "execution_count": null,
   "metadata": {},
   "outputs": [],
   "source": []
  }
 ],
 "metadata": {
  "kernelspec": {
   "display_name": "cpu py3",
   "language": "python",
   "name": "cpu_py3"
  },
  "language_info": {
   "codemirror_mode": {
    "name": "ipython",
    "version": 3
   },
   "file_extension": ".py",
   "mimetype": "text/x-python",
   "name": "python",
   "nbconvert_exporter": "python",
   "pygments_lexer": "ipython3",
   "version": "3.5.2"
  }
 },
 "nbformat": 4,
 "nbformat_minor": 2
}
