{
 "cells": [
  {
   "cell_type": "code",
   "execution_count": 11,
   "metadata": {},
   "outputs": [
    {
     "data": {
      "text/html": [
       "<div>\n",
       "<style scoped>\n",
       "    .dataframe tbody tr th:only-of-type {\n",
       "        vertical-align: middle;\n",
       "    }\n",
       "\n",
       "    .dataframe tbody tr th {\n",
       "        vertical-align: top;\n",
       "    }\n",
       "\n",
       "    .dataframe thead th {\n",
       "        text-align: right;\n",
       "    }\n",
       "</style>\n",
       "<table border=\"1\" class=\"dataframe\">\n",
       "  <thead>\n",
       "    <tr style=\"text-align: right;\">\n",
       "      <th></th>\n",
       "      <th>image_filepath</th>\n",
       "      <th>mask_filepath</th>\n",
       "      <th>width</th>\n",
       "      <th>height</th>\n",
       "      <th>image_id</th>\n",
       "    </tr>\n",
       "  </thead>\n",
       "  <tbody>\n",
       "    <tr>\n",
       "      <th>0</th>\n",
       "      <td>ESADNOVXEX</td>\n",
       "      <td>QSYGXRNYLU</td>\n",
       "      <td>53</td>\n",
       "      <td>17</td>\n",
       "      <td>305</td>\n",
       "    </tr>\n",
       "    <tr>\n",
       "      <th>1</th>\n",
       "      <td>VIPWMREFHS</td>\n",
       "      <td>YZLZHORRZI</td>\n",
       "      <td>99</td>\n",
       "      <td>32</td>\n",
       "      <td>6406</td>\n",
       "    </tr>\n",
       "    <tr>\n",
       "      <th>2</th>\n",
       "      <td>AIRJNBRAQM</td>\n",
       "      <td>IKZFIJSTKI</td>\n",
       "      <td>36</td>\n",
       "      <td>61</td>\n",
       "      <td>143</td>\n",
       "    </tr>\n",
       "    <tr>\n",
       "      <th>3</th>\n",
       "      <td>GALCLHZWJT</td>\n",
       "      <td>IYONFKVKTN</td>\n",
       "      <td>99</td>\n",
       "      <td>14</td>\n",
       "      <td>712</td>\n",
       "    </tr>\n",
       "    <tr>\n",
       "      <th>4</th>\n",
       "      <td>RPLSFCYAZW</td>\n",
       "      <td>UJGWFDXUWC</td>\n",
       "      <td>32</td>\n",
       "      <td>67</td>\n",
       "      <td>7204</td>\n",
       "    </tr>\n",
       "  </tbody>\n",
       "</table>\n",
       "</div>"
      ],
      "text/plain": [
       "  image_filepath mask_filepath  width  height  image_id\n",
       "0     ESADNOVXEX    QSYGXRNYLU     53      17       305\n",
       "1     VIPWMREFHS    YZLZHORRZI     99      32      6406\n",
       "2     AIRJNBRAQM    IKZFIJSTKI     36      61       143\n",
       "3     GALCLHZWJT    IYONFKVKTN     99      14       712\n",
       "4     RPLSFCYAZW    UJGWFDXUWC     32      67      7204"
      ]
     },
     "metadata": {},
     "output_type": "display_data"
    },
    {
     "data": {
      "text/html": [
       "<div>\n",
       "<style scoped>\n",
       "    .dataframe tbody tr th:only-of-type {\n",
       "        vertical-align: middle;\n",
       "    }\n",
       "\n",
       "    .dataframe tbody tr th {\n",
       "        vertical-align: top;\n",
       "    }\n",
       "\n",
       "    .dataframe thead th {\n",
       "        text-align: right;\n",
       "    }\n",
       "</style>\n",
       "<table border=\"1\" class=\"dataframe\">\n",
       "  <thead>\n",
       "    <tr style=\"text-align: right;\">\n",
       "      <th></th>\n",
       "      <th>image_filepath</th>\n",
       "      <th>width</th>\n",
       "      <th>height</th>\n",
       "      <th>image_id</th>\n",
       "    </tr>\n",
       "  </thead>\n",
       "  <tbody>\n",
       "    <tr>\n",
       "      <th>0</th>\n",
       "      <td>MBFKXFHBNP</td>\n",
       "      <td>16</td>\n",
       "      <td>60</td>\n",
       "      <td>5665</td>\n",
       "    </tr>\n",
       "    <tr>\n",
       "      <th>1</th>\n",
       "      <td>UQNCSTCLZA</td>\n",
       "      <td>34</td>\n",
       "      <td>40</td>\n",
       "      <td>1824</td>\n",
       "    </tr>\n",
       "    <tr>\n",
       "      <th>2</th>\n",
       "      <td>DHKTGXGMMH</td>\n",
       "      <td>92</td>\n",
       "      <td>80</td>\n",
       "      <td>6960</td>\n",
       "    </tr>\n",
       "    <tr>\n",
       "      <th>3</th>\n",
       "      <td>NJYSHDGIUI</td>\n",
       "      <td>44</td>\n",
       "      <td>77</td>\n",
       "      <td>2486</td>\n",
       "    </tr>\n",
       "    <tr>\n",
       "      <th>4</th>\n",
       "      <td>TSTYJWJBMI</td>\n",
       "      <td>32</td>\n",
       "      <td>47</td>\n",
       "      <td>1660</td>\n",
       "    </tr>\n",
       "  </tbody>\n",
       "</table>\n",
       "</div>"
      ],
      "text/plain": [
       "  image_filepath  width  height  image_id\n",
       "0     MBFKXFHBNP     16      60      5665\n",
       "1     UQNCSTCLZA     34      40      1824\n",
       "2     DHKTGXGMMH     92      80      6960\n",
       "3     NJYSHDGIUI     44      77      2486\n",
       "4     TSTYJWJBMI     32      47      1660"
      ]
     },
     "metadata": {},
     "output_type": "display_data"
    }
   ],
   "source": [
    "import pandas as pd\n",
    "import random \n",
    "from string import ascii_uppercase\n",
    "\n",
    "def random_string_generator(n, k):\n",
    "    random_strings = []\n",
    "    for _ in range(n):\n",
    "        random_strings.append(''.join(random.choice(ascii_uppercase) for i in range(k)))\n",
    "    return random_strings\n",
    "\n",
    "def random_ints_generator(n, max_val=1000):\n",
    "    return [int(max_val*random.random())+1 for i in range(n)]\n",
    "\n",
    "N_TRAIN = 1000\n",
    "data = pd.DataFrame(columns=['image_filepath','mask_filepath','width','height','image_id'])\n",
    "data['image_filepath'] = random_string_generator(N_TRAIN, 10)\n",
    "data['mask_filepath'] = random_string_generator(N_TRAIN, 10)\n",
    "data['width'] = random_ints_generator(N_TRAIN, 100)\n",
    "data['height'] = random_ints_generator(N_TRAIN, 100)\n",
    "data['image_id'] = random_ints_generator(N_TRAIN, 10000)\n",
    "display(data.head())\n",
    "data.to_csv('/mnt/ml-team/dsb_2018/kuba/mocked_data/metadata/train.csv',index=None)\n",
    "\n",
    "N_TEST = 100\n",
    "data = pd.DataFrame(columns=['image_filepath','width','height','image_id'])\n",
    "data['image_filepath'] = random_string_generator(N_TEST, 10)\n",
    "data['width'] = random_ints_generator(N_TEST, 100)\n",
    "data['height'] = random_ints_generator(N_TEST, 100)\n",
    "data['image_id'] = random_ints_generator(N_TEST, 10000)\n",
    "display(data.head())\n",
    "data.to_csv('/mnt/ml-team/dsb_2018/kuba/mocked_data/metadata/test.csv',index=None)"
   ]
  },
  {
   "cell_type": "code",
   "execution_count": 10,
   "metadata": {},
   "outputs": [
    {
     "data": {
      "text/html": [
       "<div>\n",
       "<style scoped>\n",
       "    .dataframe tbody tr th:only-of-type {\n",
       "        vertical-align: middle;\n",
       "    }\n",
       "\n",
       "    .dataframe tbody tr th {\n",
       "        vertical-align: top;\n",
       "    }\n",
       "\n",
       "    .dataframe thead th {\n",
       "        text-align: right;\n",
       "    }\n",
       "</style>\n",
       "<table border=\"1\" class=\"dataframe\">\n",
       "  <thead>\n",
       "    <tr style=\"text-align: right;\">\n",
       "      <th></th>\n",
       "      <th>width</th>\n",
       "      <th>height</th>\n",
       "      <th>image_id</th>\n",
       "    </tr>\n",
       "  </thead>\n",
       "  <tbody>\n",
       "    <tr>\n",
       "      <th>count</th>\n",
       "      <td>100.000000</td>\n",
       "      <td>100.000000</td>\n",
       "      <td>100.000000</td>\n",
       "    </tr>\n",
       "    <tr>\n",
       "      <th>mean</th>\n",
       "      <td>51.950000</td>\n",
       "      <td>47.960000</td>\n",
       "      <td>5194.110000</td>\n",
       "    </tr>\n",
       "    <tr>\n",
       "      <th>std</th>\n",
       "      <td>29.285559</td>\n",
       "      <td>28.815302</td>\n",
       "      <td>2725.608982</td>\n",
       "    </tr>\n",
       "    <tr>\n",
       "      <th>min</th>\n",
       "      <td>1.000000</td>\n",
       "      <td>1.000000</td>\n",
       "      <td>89.000000</td>\n",
       "    </tr>\n",
       "    <tr>\n",
       "      <th>25%</th>\n",
       "      <td>24.750000</td>\n",
       "      <td>23.500000</td>\n",
       "      <td>2471.000000</td>\n",
       "    </tr>\n",
       "    <tr>\n",
       "      <th>50%</th>\n",
       "      <td>49.500000</td>\n",
       "      <td>49.000000</td>\n",
       "      <td>5599.000000</td>\n",
       "    </tr>\n",
       "    <tr>\n",
       "      <th>75%</th>\n",
       "      <td>81.250000</td>\n",
       "      <td>72.500000</td>\n",
       "      <td>7314.500000</td>\n",
       "    </tr>\n",
       "    <tr>\n",
       "      <th>max</th>\n",
       "      <td>100.000000</td>\n",
       "      <td>98.000000</td>\n",
       "      <td>9842.000000</td>\n",
       "    </tr>\n",
       "  </tbody>\n",
       "</table>\n",
       "</div>"
      ],
      "text/plain": [
       "            width      height     image_id\n",
       "count  100.000000  100.000000   100.000000\n",
       "mean    51.950000   47.960000  5194.110000\n",
       "std     29.285559   28.815302  2725.608982\n",
       "min      1.000000    1.000000    89.000000\n",
       "25%     24.750000   23.500000  2471.000000\n",
       "50%     49.500000   49.000000  5599.000000\n",
       "75%     81.250000   72.500000  7314.500000\n",
       "max    100.000000   98.000000  9842.000000"
      ]
     },
     "execution_count": 10,
     "metadata": {},
     "output_type": "execute_result"
    }
   ],
   "source": [
    "data.describe()"
   ]
  },
  {
   "cell_type": "code",
   "execution_count": 12,
   "metadata": {},
   "outputs": [
    {
     "name": "stdout",
     "output_type": "stream",
     "text": [
      "07a9bf1d7594af2763c86e93f05d22c4d5181353c6d3ab30a345b908ffe5aadc.png\r\n",
      "0e548d0af63ab451616f082eb56bde13eb71f73dfda92a03fbe88ad42ebb4881.png\r\n",
      "0ea1f9e30124e4aef1407af239ff42fd6f5753c09b4c5cac5d08023c328d7f05.png\r\n",
      "0f5a3252d05ecdf453bdd5e6ad5322c454d8ec2d13ef0f0bf45a6f6db45b5639.png\r\n",
      "2c47735510ef91a11fde42b317829cee5fc04d05a797b90008803d7151951d58.png\r\n",
      "4afa39f2a05f9884a5ff030d678c6142379f99a5baaf4f1ba7835a639cb50751.png\r\n",
      "4bc58dbdefb2777392361d8b2d686b1cc14ca310e009b79763af46e853e6c6ac.png\r\n",
      "4e3b49fb14877b63704881a923365b68c1def111c58f23c66daa49fef4b632bf.png\r\n",
      "5522143fa8723b66b1e0b25331047e6ae6eeec664f7c8abeba687e0de0f9060a.png\r\n",
      "58656859fb9c13741eda9bc753c3415b78d1135ee852a194944dee88ab70acf4.png\r\n",
      "6442251746caac8fc255e6a22b41282ffcfabebadbd240ee0b604808ff9e3383.png\r\n",
      "7ff04129f8b6d9aaf47e062eadce8b3fcff8b4a29ec5ad92bca926ac2b7263d2.png\r\n",
      "8bbec3052bcec900455e8c7728d03facb46c880334bcc4fb0d1d066dd6c7c5d2.png\r\n",
      "9576fe25f4a510f12eecbabfa2e0237b98d8c2622b9e13b9a960e2afe6da844e.png\r\n",
      "95deddb72b845b1a1f81a282c86e666045da98344eaa2763d67e2ab80bc2e5c3.png\r\n",
      "a1b0cdb21f341af17d86f23596df4f02a6b9c4e0d59a7f74aaf28b9e408a4e4c.png\r\n",
      "aa154c70e0d82669e9e492309bd00536d2b0f6eeec1210014bbafbfc554b377c.png\r\n",
      "acba6646e8250aab8865cd652dfaa7c56f643267ea2e774aee97dc2342d879d6.png\r\n",
      "ae00049dc36a1e5ffafcdeadb44b18a9cd6dfd459ee302ab041337529bd41cf2.png\r\n",
      "af4d6ff17fa7b41de146402e12b3bab1f1fe3c1e6f37da81a54e002168b1e7dd.png\r\n",
      "b0cbc2c553f9c4ac2191395236f776143fb3a28fb77b81d3d258a2f45361ca89.png\r\n",
      "b6fc3b5403de8f393ca368553566eaf03d5c07148539bc6141a486f1d185f677.png\r\n",
      "be98de8a7ba7d5d733b1212ae957f37b5b69d0bf350b9a5a25ba4346c29e49f7.png\r\n",
      "cb53899ef711bce04b209829c61958abdb50aa759f3f896eb7ed868021c22fb4.png\r\n",
      "d5024b272cb39f9ef2753e2f31344f42dd17c0e2311c4927946bc5008d295d2e.png\r\n",
      "f6eee5c69f54807923de1ceb1097fc3aa902a6b20d846f111e806988a4269ed0.png\r\n",
      "ffae764df84788e8047c0942f55676c9663209f65da943814c6b3aca78d8e7f7.png\r\n"
     ]
    }
   ],
   "source": [
    "! ls /mnt/ml-team/dsb_2018/data/stage1_train/00071198d059ba7f5914a526d124d28e6d010c92466da21d4a04cd5413362552/masks"
   ]
  },
  {
   "cell_type": "code",
   "execution_count": 13,
   "metadata": {},
   "outputs": [],
   "source": [
    "%matplotlib inline\n",
    "import matplotlib.pyplot as plt"
   ]
  },
  {
   "cell_type": "code",
   "execution_count": 14,
   "metadata": {},
   "outputs": [],
   "source": [
    "img = plt.imread('/mnt/ml-team/dsb_2018/kuba/mocked_data/masks_overlayed/stage1_train/00071198d059ba7f5914a526d124d28e6d010c92466da21d4a04cd5413362552.png')"
   ]
  },
  {
   "cell_type": "code",
   "execution_count": 15,
   "metadata": {},
   "outputs": [
    {
     "data": {
      "text/plain": [
       "<matplotlib.image.AxesImage at 0x7fbe65978550>"
      ]
     },
     "execution_count": 15,
     "metadata": {},
     "output_type": "execute_result"
    },
    {
     "data": {
      "image/png": "[encoded data removed]",
      "text/plain": [
       "<matplotlib.figure.Figure at 0x7fbe65910d68>"
      ]
     },
     "metadata": {},
     "output_type": "display_data"
    }
   ],
   "source": [
    "plt.imshow(img)"
   ]
  },
  {
   "cell_type": "code",
   "execution_count": null,
   "metadata": {},
   "outputs": [],
   "source": []
  }
 ],
 "metadata": {
  "kernelspec": {
   "display_name": "cpu py3",
   "language": "python",
   "name": "cpu_py3"
  },
  "language_info": {
   "codemirror_mode": {
    "name": "ipython",
    "version": 3
   },
   "file_extension": ".py",
   "mimetype": "text/x-python",
   "name": "python",
   "nbconvert_exporter": "python",
   "pygments_lexer": "ipython3",
   "version": "3.5.2"
  }
 },
 "nbformat": 4,
 "nbformat_minor": 2
}
