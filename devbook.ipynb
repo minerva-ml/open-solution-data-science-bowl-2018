{
 "cells": [
  {
   "cell_type": "code",
   "execution_count": null,
   "metadata": {},
   "outputs": [],
   "source": [
    "%matplotlib inline\n",
    "import matplotlib.pyplot as plt\n",
    "import ipywidgets as ipy"
   ]
  },
  {
   "cell_type": "code",
   "execution_count": null,
   "metadata": {},
   "outputs": [],
   "source": [
    "\n",
    "@ipy.interact(i=ipy.widgets.IntSlider())\n",
    "def f(i):\n",
    "    img_m = plt.imread('/mnt/ml-team/dsb_2018/kuba/debug/proba_map{}.png'.format(i))\n",
    "    img_b = plt.imread('/mnt/ml-team/dsb_2018/kuba/debug/binary_map{}.png'.format(i))\n",
    "    plt.subplot(1,2,1)\n",
    "    plt.imshow(img_m)\n",
    "    plt.subplot(1,2,2)\n",
    "    plt.imshow(img_b)\n",
    "    plt.show()"
   ]
  },
  {
   "cell_type": "code",
   "execution_count": null,
   "metadata": {},
   "outputs": [],
   "source": []
  }
 ],
 "metadata": {
  "kernelspec": {
   "display_name": "dl_py3",
   "language": "python",
   "name": "dl_py3"
  },
  "language_info": {
   "codemirror_mode": {
    "name": "ipython",
    "version": 3
   },
   "file_extension": ".py",
   "mimetype": "text/x-python",
   "name": "python",
   "nbconvert_exporter": "python",
   "pygments_lexer": "ipython3",
   "version": "3.5.2"
  }
 },
 "nbformat": 4,
 "nbformat_minor": 2
}
