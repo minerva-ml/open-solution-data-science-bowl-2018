{
 "cells": [
  {
   "cell_type": "markdown",
   "metadata": {},
   "source": [
    "## In this notebook we explain our morphological postprocessing step that improved our score from 0.421 to 0.428 on LB\n",
    "\n",
    "To see the full end-to-end pipeline go to https://github.com/neptune-ml/data-science-bowl-2018"
   ]
  },
  {
   "cell_type": "code",
   "execution_count": null,
   "metadata": {
    "_cell_guid": "524d5b05-dfad-4b67-a8a8-411aa390d04a",
    "_uuid": "0cc77e61a1aed78238be928a560e3bae9758fd8d"
   },
   "outputs": [],
   "source": [
    "%matplotlib inline\n",
    "\n",
    "import os\n",
    "\n",
    "import ipywidgets as ipy\n",
    "import matplotlib.pyplot as plt\n",
    "import numpy as np\n",
    "import pandas as pd\n",
    "from sklearn.externals import joblib"
   ]
  },
  {
   "cell_type": "code",
   "execution_count": null,
   "metadata": {
    "_cell_guid": "cda728de-bb92-466b-8f32-8799fd493c96",
    "_uuid": "0c5630af0f79d7296fa6426f1b2858a5a7eea727"
   },
   "outputs": [],
   "source": [
    "masks, contours, ground_truth = joblib.load('../input/morphologicalpostprocessing/masks_contours_ground_truth_train.pkl')"
   ]
  },
  {
   "cell_type": "code",
   "execution_count": null,
   "metadata": {
    "_cell_guid": "76cdc98c-d933-4e56-923e-57ff317e2bad",
    "_uuid": "9ce98ba52aa60407210a616ffe211610ea30783e"
   },
   "outputs": [],
   "source": [
    "def plot_list(images, labels):\n",
    "    n_img = len(images)\n",
    "    n_lab = len(labels)\n",
    "    n = n_lab+n_img\n",
    "    plt.figure(figsize=(12,10))\n",
    "    for i, image in enumerate(images):\n",
    "        plt.subplot(1,n,i+1)\n",
    "        plt.imshow(image)\n",
    "    for j, label in enumerate(labels):\n",
    "        plt.subplot(1,n,n_img+j+1)\n",
    "        plt.imshow(label, cmap='nipy_spectral')\n",
    "    plt.show()"
   ]
  },
  {
   "cell_type": "markdown",
   "metadata": {},
   "source": [
    "Lets look at our **inputs**:\n",
    "* maps\n",
    "* contours\n",
    "\n",
    "and **outputs**:\n",
    "* ground truth\n",
    "\n",
    "to get some intuition into what is possible"
   ]
  },
  {
   "cell_type": "code",
   "execution_count": null,
   "metadata": {
    "_cell_guid": "9ca5d7d4-3b8c-4014-a29f-89f594acbc6b",
    "_uuid": "967a05c0fc92d795457d0bf2ab64d3e1a4fcfae4",
    "scrolled": false
   },
   "outputs": [],
   "source": [
    "for idx in range(10):\n",
    "    print(idx)\n",
    "    mask = masks[idx]\n",
    "    contour = contours[idx]\n",
    "    gt = ground_truth[idx]\n",
    "    \n",
    "    plot_list(images = [mask,contour],labels = [gt])"
   ]
  },
  {
   "cell_type": "markdown",
   "metadata": {},
   "source": [
    "Both masks and contours seem reasonably good and sometimes like in image 5 it is very beneficial to use both"
   ]
  },
  {
   "cell_type": "markdown",
   "metadata": {
    "_cell_guid": "cba94bf6-2ab4-45b0-9033-6ea7bbbf2eeb",
    "_uuid": "23222d9bdb8ea6ce0ce88fafcfbc1701cde5daaf"
   },
   "source": [
    "# Plan:\n",
    "We will use **marker based watershed** to detach nuclei and combine that with some **morphological** cleaning\n",
    "\n",
    "If you don't know what it is check this link http://cmm.ensmp.fr/~beucher/wtshed.html\n",
    "\n",
    "# What we need:\n",
    "* Clean binary masks \n",
    "* Good nicely detached markers \n",
    "* Good distance "
   ]
  },
  {
   "cell_type": "markdown",
   "metadata": {
    "_cell_guid": "1fdf7174-a4cb-4fb6-9814-f5e8a687bc6c",
    "_uuid": "ca9f7ba7ed9422bf4112702ca6857436c99c61ae"
   },
   "source": [
    "# Clean Masks"
   ]
  },
  {
   "cell_type": "markdown",
   "metadata": {
    "_cell_guid": "432f791e-2ed3-4002-bd18-3de0ac076c9e",
    "_uuid": "c7ec91c0fc4f330772d7ceb494a9627d37604de2"
   },
   "source": [
    "## Problem 1 dirty masks"
   ]
  },
  {
   "cell_type": "code",
   "execution_count": null,
   "metadata": {
    "_cell_guid": "ec00c406-3928-4033-b271-f5c10965e73e",
    "_uuid": "759a9a4b0c56bf3188b7829ba6fd4a953ca69150"
   },
   "outputs": [],
   "source": [
    "idx = 5\n",
    "dirty = masks[idx], contours[idx], ground_truth[idx]\n",
    "\n",
    "plot_list(images = [dirty[0],dirty[1]],\n",
    "          labels = [dirty[2]])"
   ]
  },
  {
   "cell_type": "markdown",
   "metadata": {
    "_cell_guid": "e686f31b-513e-4432-a40e-f8e7a4091f86",
    "_uuid": "9b893dfff45dd863e91ae3ab3414cbbc4750e49f"
   },
   "source": [
    "## Problem 2 dirty at border"
   ]
  },
  {
   "cell_type": "code",
   "execution_count": null,
   "metadata": {
    "_cell_guid": "96507bb6-7498-4e79-b0e5-97b4a849165a",
    "_uuid": "28fc25d9df4427dcadffa739d60c73ddb47917b5"
   },
   "outputs": [],
   "source": [
    "idx = 44\n",
    "dirty_at_border = masks[idx], contours[idx], ground_truth[idx]\n",
    "\n",
    "plot_list(images = [dirty_at_border[0],dirty_at_border[1]],\n",
    "          labels = [dirty_at_border[2]])"
   ]
  },
  {
   "cell_type": "markdown",
   "metadata": {},
   "source": [
    "We can immediately see that some of our cells are are **not very smooth** and there are **holes in them**.\n",
    "\n",
    "Let's deal with that via morphological transformations. \n",
    "If it is the first time you hear about them it's a good moment to do some reading. \n",
    "Here is an interesting link https://homepages.inf.ed.ac.uk/rbf/HIPR2/morops.htm but there is a ton of stuff online so google it if you feel like it."
   ]
  },
  {
   "cell_type": "markdown",
   "metadata": {
    "_cell_guid": "b2414c8d-6e6e-4d17-9eb6-ae7490da2bfe",
    "_uuid": "2f51979dc2a5859405cb08e089660157a3e58c02"
   },
   "source": [
    "## Approach V1"
   ]
  },
  {
   "cell_type": "code",
   "execution_count": null,
   "metadata": {
    "_cell_guid": "968b5f1c-f925-407d-b040-accdc1ee9a20",
    "_uuid": "90326bb21d847a591e1e6128395562f085553020"
   },
   "outputs": [],
   "source": [
    "import skimage.morphology as morph\n",
    "from skimage.filters import threshold_otsu\n",
    "import scipy.ndimage as ndi\n",
    "from scipy.stats import itemfreq"
   ]
  },
  {
   "cell_type": "markdown",
   "metadata": {
    "_uuid": "f775e88488caefe4808571285b82b0a9c90106a3"
   },
   "source": [
    "Let's build a function that calculates the average size of the nuclei. We will need to to choose the structural element for our postprocessing"
   ]
  },
  {
   "cell_type": "code",
   "execution_count": null,
   "metadata": {
    "_uuid": "dfcdbd87d8b420dc7d2247ac87739a4c50499ba2"
   },
   "outputs": [],
   "source": [
    "def mean_blob_size(mask):\n",
    "    labels, labels_nr = ndi.label(mask)\n",
    "    if labels_nr < 2:\n",
    "        mean_area = 1\n",
    "        mean_radius = 1\n",
    "    else:\n",
    "        mean_area = int(itemfreq(labels)[1:, 1].mean())\n",
    "        mean_radius = int(np.round(np.sqrt(mean_area) / np.pi))\n",
    "    return mean_area, mean_radius"
   ]
  },
  {
   "cell_type": "markdown",
   "metadata": {},
   "source": [
    "Let's work on image 5"
   ]
  },
  {
   "cell_type": "code",
   "execution_count": null,
   "metadata": {},
   "outputs": [],
   "source": [
    "m, c, t = dirty"
   ]
  },
  {
   "cell_type": "markdown",
   "metadata": {},
   "source": [
    "Now let's proceed to cleaning.\n",
    "\n",
    "First we binarize both the mask and contours using global, otsu thresholding method:"
   ]
  },
  {
   "cell_type": "code",
   "execution_count": null,
   "metadata": {},
   "outputs": [],
   "source": [
    "m_b = m > threshold_otsu(m)\n",
    "c_b = c > threshold_otsu(c)\n",
    "\n",
    "plot_list(images=[m_b,c_b],labels=[])"
   ]
  },
  {
   "cell_type": "markdown",
   "metadata": {},
   "source": [
    "Then we go ahead and combine binarized masks and contours:"
   ]
  },
  {
   "cell_type": "code",
   "execution_count": null,
   "metadata": {},
   "outputs": [],
   "source": [
    "m_ = np.where(m_b | c_b, 1, 0)\n",
    "plot_list(images=[m_],labels=[])"
   ]
  },
  {
   "cell_type": "markdown",
   "metadata": {},
   "source": [
    "and fill the holes that remained"
   ]
  },
  {
   "cell_type": "code",
   "execution_count": null,
   "metadata": {},
   "outputs": [],
   "source": [
    "m_ = ndi.binary_fill_holes(m_)\n",
    "plot_list(images=[m_],labels=[])"
   ]
  },
  {
   "cell_type": "markdown",
   "metadata": {},
   "source": [
    "Now that we filled the holes in the cells we can detach them again because we have the contour information"
   ]
  },
  {
   "cell_type": "code",
   "execution_count": null,
   "metadata": {},
   "outputs": [],
   "source": [
    "m_ = np.where(c_b & (~m_b), 0, m_)\n",
    "plot_list(images=[m_],labels=[])"
   ]
  },
  {
   "cell_type": "markdown",
   "metadata": {},
   "source": [
    "There is a problem with this approach. We are left with artifacts. Let's use binary_openning to drop them."
   ]
  },
  {
   "cell_type": "code",
   "execution_count": null,
   "metadata": {},
   "outputs": [],
   "source": [
    "area, radius = mean_blob_size(m_b)\n",
    "m_ = morph.binary_opening(m_, selem=morph.disk(1.25*radius))\n",
    "plot_list(images=[m_],labels=[])"
   ]
  },
  {
   "cell_type": "markdown",
   "metadata": {},
   "source": [
    "Ok that looks fair.\n",
    "Let's put it all together in a function"
   ]
  },
  {
   "cell_type": "code",
   "execution_count": null,
   "metadata": {
    "_cell_guid": "70e52772-3d62-4e40-aaca-db401cd23710",
    "_uuid": "2ff69933d2ead844bc1929afc7d26891da5f97b1"
   },
   "outputs": [],
   "source": [
    "def clean_mask_v1(m,c):\n",
    "    m_b = m > threshold_otsu(m)\n",
    "    c_b = c > threshold_otsu(c)\n",
    "\n",
    "    m_ = np.where(m_b | c_b, 1, 0)\n",
    "    m_ = ndi.binary_fill_holes(m_)\n",
    "    m_ = np.where(c_b & (~m_b), 0, m_)\n",
    "    \n",
    "    area, radius = mean_blob_size(m_b)\n",
    "    m_ = morph.binary_opening(m_, selem=morph.disk(1.25*radius))\n",
    "    return m_"
   ]
  },
  {
   "cell_type": "code",
   "execution_count": null,
   "metadata": {
    "_cell_guid": "c81d0459-bbc9-48a8-976e-2a47e0223d28",
    "_uuid": "01a0c0615f6135cd682d520447609cf017782054"
   },
   "outputs": [],
   "source": [
    "m, c, t = dirty\n",
    "\n",
    "m_ = clean_mask_v1(m,c)\n",
    "\n",
    "plot_list(images = [m,c,m_],\n",
    "          labels = [t]\n",
    "         )"
   ]
  },
  {
   "cell_type": "markdown",
   "metadata": {
    "_cell_guid": "e8620df7-38d7-4787-9d37-991a6f3cc460",
    "_uuid": "9eca3ac8625ffc633258e53c3f8a9bf9d3477858"
   },
   "source": [
    "It works to a certain extend but it removes things that where not connected and/or things around borders"
   ]
  },
  {
   "cell_type": "code",
   "execution_count": null,
   "metadata": {
    "_cell_guid": "acf7890a-55e9-4edb-8f5f-b459c338cb8e",
    "_uuid": "87c6437d18db787bf2c9127950005580514383b3"
   },
   "outputs": [],
   "source": [
    "m,c,t = dirty_at_border\n",
    "m_ = clean_mask_v1(m,c)\n",
    "\n",
    "plot_list(images = [m,c,m_],\n",
    "          labels = [t]\n",
    "         )"
   ]
  },
  {
   "cell_type": "markdown",
   "metadata": {
    "_cell_guid": "06a47ef8-2405-42f5-b66a-5811b967dce0",
    "_uuid": "4301e4fdb91d7f944983d0dde9ca30a1875f15c4"
   },
   "source": [
    "## Approach V2"
   ]
  },
  {
   "cell_type": "code",
   "execution_count": null,
   "metadata": {},
   "outputs": [],
   "source": [
    "m,c,t = dirty_at_border"
   ]
  },
  {
   "cell_type": "markdown",
   "metadata": {},
   "source": [
    "Let's start by binarizing and filling the holes again"
   ]
  },
  {
   "cell_type": "code",
   "execution_count": null,
   "metadata": {},
   "outputs": [],
   "source": [
    "# threshold\n",
    "m_b = m > threshold_otsu(m)\n",
    "c_b = c > threshold_otsu(c)\n",
    "\n",
    "# combine contours and masks and fill the cells\n",
    "m_ = np.where(m_b | c_b, 1, 0)\n",
    "m_ = ndi.binary_fill_holes(m_)\n",
    "plot_list(images=[m_],labels=[])"
   ]
  },
  {
   "cell_type": "markdown",
   "metadata": {},
   "source": [
    "Now we will use `binary_closing` to fill what wasn't closed with fill holes. We will need two helper functions `pad_mask` and `crop_mask` to deal with problems around the edges "
   ]
  },
  {
   "cell_type": "code",
   "execution_count": null,
   "metadata": {},
   "outputs": [],
   "source": [
    "def pad_mask(mask, pad):\n",
    "    if pad <= 1:\n",
    "        pad = 2\n",
    "    h, w = mask.shape\n",
    "    h_pad = h + 2 * pad\n",
    "    w_pad = w + 2 * pad\n",
    "    mask_padded = np.zeros((h_pad, w_pad))\n",
    "    mask_padded[pad:pad + h, pad:pad + w] = mask\n",
    "    mask_padded[pad - 1, :] = 1\n",
    "    mask_padded[pad + h + 1, :] = 1\n",
    "    mask_padded[:, pad - 1] = 1\n",
    "    mask_padded[:, pad + w + 1] = 1\n",
    "\n",
    "    return mask_padded\n",
    "\n",
    "def crop_mask(mask, crop):\n",
    "    if crop <= 1:\n",
    "        crop = 2\n",
    "    h, w = mask.shape\n",
    "    mask_cropped = mask[crop:h - crop, crop:w - crop]\n",
    "    return mask_cropped"
   ]
  },
  {
   "cell_type": "markdown",
   "metadata": {},
   "source": [
    "ok lets go for it"
   ]
  },
  {
   "cell_type": "code",
   "execution_count": null,
   "metadata": {},
   "outputs": [],
   "source": [
    "# close what wasn't closed before \n",
    "area, radius = mean_blob_size(m_b)\n",
    "struct_size = int(1.25*radius)\n",
    "struct_el = morph.disk(struct_size)\n",
    "m_padded = pad_mask(m_, pad=struct_size)\n",
    "m_padded = morph.binary_closing(m_padded, selem=struct_el)\n",
    "m_ = crop_mask(m_padded, crop=struct_size)\n",
    "plot_list(images=[m_],labels=[])"
   ]
  },
  {
   "cell_type": "markdown",
   "metadata": {},
   "source": [
    "Yeah we closed everything but it is way more than we wanted. Let's now cut it with our contours and see what we get"
   ]
  },
  {
   "cell_type": "code",
   "execution_count": null,
   "metadata": {
    "scrolled": false
   },
   "outputs": [],
   "source": [
    "m_ = np.where(c_b & (~m_b), 0, m_)\n",
    "plot_list(images=[m_],labels=[])"
   ]
  },
  {
   "cell_type": "markdown",
   "metadata": {},
   "source": [
    "We got a lot of artifacts but we are getting places. If we could clean up those small artifacts we would be almost golden. Luckily we can use `binary_openning` with a larger structural element. Let's try that"
   ]
  },
  {
   "cell_type": "code",
   "execution_count": null,
   "metadata": {},
   "outputs": [],
   "source": [
    "area, radius = mean_blob_size(m_b)\n",
    "struct_size = int(0.75*radius)\n",
    "struct_el = morph.disk(struct_size)\n",
    "m_padded = pad_mask(m_, pad=struct_size)\n",
    "m_padded = morph.binary_opening(m_padded, selem=struct_el)\n",
    "m_ = crop_mask(m_padded, crop=struct_size)\n",
    "plot_list(images=[m_,m],labels=[t])"
   ]
  },
  {
   "cell_type": "markdown",
   "metadata": {},
   "source": [
    "Boom! It looks really nice. \n",
    "\n",
    "There are two problems with this result. First we have slightly smaller cells (like the blue one on the right edge) and we created some new cells (like the one at the top edge)!. Let's deal with it one problem at a time starting with the two small cell problem. We can simply join the result with the original binarized mask."
   ]
  },
  {
   "cell_type": "code",
   "execution_count": null,
   "metadata": {},
   "outputs": [],
   "source": [
    "# join the connected cells with what we had at the beginning\n",
    "m_ = np.where(m_b|m_,1,0)\n",
    "m_ = ndi.binary_fill_holes(m_)\n",
    "plot_list(images=[m_,m],labels=[t])"
   ]
  },
  {
   "cell_type": "markdown",
   "metadata": {},
   "source": [
    "We'll deal with the second problem by going over all the resulting cells and calculating the coverage of the cell with the original binaraized image region. If nothing was there at the beginning nothing should be there now. Let's do that with the following `drop_artifacts` function"
   ]
  },
  {
   "cell_type": "code",
   "execution_count": null,
   "metadata": {
    "_cell_guid": "ce74a794-6f7c-4611-9f20-4b679f88e1ef",
    "_uuid": "c5ca22f5e0d813a2947445a68fe958dccd6bf2bf"
   },
   "outputs": [],
   "source": [
    "def drop_artifacts(mask_after, mask_pre, min_coverage=0.5):\n",
    "    connected, nr_connected = ndi.label(mask_after)\n",
    "    mask = np.zeros_like(mask_after)\n",
    "    for i in range(1, nr_connected + 1):\n",
    "        conn_blob = np.where(connected == i, 1, 0)\n",
    "        initial_space = np.where(connected == i, mask_pre, 0)\n",
    "        blob_size = np.sum(conn_blob)\n",
    "        initial_blob_size = np.sum(initial_space)\n",
    "        coverage = float(initial_blob_size) / float(blob_size)\n",
    "        if coverage > min_coverage:\n",
    "            mask = mask + conn_blob\n",
    "        else:\n",
    "            mask = mask + initial_space\n",
    "    return mask\n",
    "\n"
   ]
  },
  {
   "cell_type": "code",
   "execution_count": null,
   "metadata": {},
   "outputs": [],
   "source": [
    "m_ = drop_artifacts(m_, m_b,min_coverage=0.25)\n",
    "plot_list(images=[m_,m,c],labels=[t])"
   ]
  },
  {
   "cell_type": "markdown",
   "metadata": {},
   "source": [
    "Not bad at all!\n",
    "\n",
    "Let's put it all together in one function"
   ]
  },
  {
   "cell_type": "code",
   "execution_count": null,
   "metadata": {
    "_cell_guid": "b32fa9f5-58b5-40bb-9ecb-1a5bf5eb3bc1",
    "_uuid": "4a01bb3e4afea8a4d29e315d3be84b34dac7658d"
   },
   "outputs": [],
   "source": [
    "def clean_mask_v2(m,c):\n",
    "    # threshold\n",
    "    m_b = m > threshold_otsu(m)\n",
    "    c_b = c > threshold_otsu(c)\n",
    "\n",
    "    # combine contours and masks and fill the cells\n",
    "    m_ = np.where(m_b | c_b, 1, 0)\n",
    "    m_ = ndi.binary_fill_holes(m_)\n",
    "\n",
    "    # close what wasn't closed before \n",
    "    area, radius = mean_blob_size(m_b)\n",
    "    struct_size = int(1.25*radius)\n",
    "    struct_el = morph.disk(struct_size)\n",
    "    m_padded = pad_mask(m_, pad=struct_size)\n",
    "    m_padded = morph.binary_closing(m_padded, selem=struct_el)\n",
    "    m_ = crop_mask(m_padded, crop=struct_size)\n",
    "    \n",
    "    # open to cut the real cells from the artifacts\n",
    "    area, radius = mean_blob_size(m_b)\n",
    "    struct_size = int(0.75*radius)\n",
    "    struct_el = morph.disk(struct_size)\n",
    "    m_ = np.where(c_b & (~m_b), 0, m_)\n",
    "    m_padded = pad_mask(m_, pad=struct_size)\n",
    "    m_padded = morph.binary_opening(m_padded, selem=struct_el)\n",
    "    m_ = crop_mask(m_padded, crop=struct_size)\n",
    "\n",
    "    # join the connected cells with what we had at the beginning\n",
    "    m_ = np.where(m_b|m_,1,0)\n",
    "    m_ = ndi.binary_fill_holes(m_)\n",
    "    \n",
    "    # drop all the cells that weren't present at least in 25% of area in the initial mask \n",
    "    m_ = drop_artifacts(m_, m_b,min_coverage=0.25)\n",
    "    \n",
    "    return m_"
   ]
  },
  {
   "cell_type": "code",
   "execution_count": null,
   "metadata": {
    "_cell_guid": "24e62c42-ad7b-474e-bd90-e7d94ee47e62",
    "_uuid": "8697c0dee49b45aae8cf2510b5fc6553b2ce43b9"
   },
   "outputs": [],
   "source": [
    "m,c,t = dirty_at_border\n",
    "m_ = clean_mask_v2(m,c)\n",
    "\n",
    "plot_list(images = [m,c,m_],\n",
    "          labels = [t]\n",
    "         )"
   ]
  },
  {
   "cell_type": "code",
   "execution_count": null,
   "metadata": {
    "_cell_guid": "aeb028fb-d4df-46d2-b426-c39417351b4f",
    "_uuid": "ea304aaad6503fac4df77493e7b4b7895ec471f3"
   },
   "outputs": [],
   "source": [
    "for idx in range(5):\n",
    "    print(idx)\n",
    "    mask = masks[idx]\n",
    "    contour = contours[idx]\n",
    "    cleaned_mask = clean_mask_v2(mask, contour)\n",
    "    gt = ground_truth[idx]\n",
    "    \n",
    "    plot_list(images = [mask,contour, cleaned_mask],labels = [gt])"
   ]
  },
  {
   "cell_type": "markdown",
   "metadata": {},
   "source": [
    "It is still not perfect for instance the following problems still arise:"
   ]
  },
  {
   "cell_type": "markdown",
   "metadata": {
    "_cell_guid": "44761a46-977d-425c-a269-4cfca5742494",
    "_uuid": "2c2d42b75f804e524863502e3f112b6fb49fc8f6"
   },
   "source": [
    "# Problem 3 not everything gets filled"
   ]
  },
  {
   "cell_type": "code",
   "execution_count": null,
   "metadata": {
    "_cell_guid": "54e9fc3b-0ea7-488d-a54d-01a56994471b",
    "_uuid": "3bf4b8906685bae1e520228e3f7e16a8b7acaf81"
   },
   "outputs": [],
   "source": [
    "for idx in [38]:\n",
    "    print(idx)\n",
    "    mask = masks[idx]\n",
    "    contour = contours[idx]\n",
    "    cleaned_mask = clean_mask_v2(mask, contour)\n",
    "    gt = ground_truth[idx]\n",
    "    \n",
    "    plot_list(images = [mask,contour, cleaned_mask],labels = [gt])"
   ]
  },
  {
   "cell_type": "markdown",
   "metadata": {},
   "source": [
    "Look at the blue cell on the yellow and blue cells on the left"
   ]
  },
  {
   "cell_type": "markdown",
   "metadata": {
    "_cell_guid": "2bd05efa-9c39-4076-9f7e-72c5bcb716c8",
    "_uuid": "c7971ab9f1855a94e11aefa58c5f10a06c2c2bef"
   },
   "source": [
    "# Problem 4 some cells get connected"
   ]
  },
  {
   "cell_type": "code",
   "execution_count": null,
   "metadata": {
    "_cell_guid": "ad91855a-e47a-4f85-88f9-8ec8e5b943a2",
    "_uuid": "21ccca5fe554fad6e38635d1146f1018e6bc5a57"
   },
   "outputs": [],
   "source": [
    "for idx in [0]:\n",
    "    print(idx)\n",
    "    mask = masks[idx]\n",
    "    contour = contours[idx]\n",
    "    cleaned_mask = clean_mask_v2(mask, contour)\n",
    "    gt = ground_truth[idx]\n",
    "    \n",
    "    plot_list(images = [mask,contour, cleaned_mask],labels = [gt])"
   ]
  },
  {
   "cell_type": "markdown",
   "metadata": {},
   "source": [
    "Look at this large blob at the top. Also there are artifacts that aren't supposed to be there"
   ]
  },
  {
   "cell_type": "markdown",
   "metadata": {
    "_cell_guid": "a45d8215-8748-4c7b-b3df-f2e09e898abd",
    "_uuid": "87351e5d9aef012033a50911018ccd0a3623f8f5"
   },
   "source": [
    "# Ideas:\n",
    "* work more with dilation\n",
    "* do better around borders\n",
    "* drop some cells after watershed with drop_artifact function\n",
    "\n",
    "Go ahead and try to improve it. The floor is yours"
   ]
  },
  {
   "cell_type": "code",
   "execution_count": null,
   "metadata": {
    "_cell_guid": "b4c60081-2b3b-458e-88c8-4e936bdcb30d",
    "_uuid": "0c3632df84cd76da9599e0dcbdb73ce4e618b07d"
   },
   "outputs": [],
   "source": [
    "def clean_mask_v3(m,c):\n",
    "    return"
   ]
  },
  {
   "cell_type": "markdown",
   "metadata": {
    "_cell_guid": "101b9bb3-df07-4942-9513-c2fa52464a78",
    "_uuid": "dcaaaedd4d19b6ffe46a8113303d500c8b7b3c07"
   },
   "source": [
    "# Good Markers\n",
    "\n",
    "Let's now try end extract good markers for our watershed."
   ]
  },
  {
   "cell_type": "markdown",
   "metadata": {
    "_cell_guid": "a1de3cda-1ae4-45f2-a7f8-1202df685ceb",
    "_uuid": "d69bb9260d62f694577ed4b083cef13853432ae6"
   },
   "source": [
    "# Approach v1\n",
    "\n",
    "In this approach we will simply cut the masks with the contours and use that as markers. Simple but really effective."
   ]
  },
  {
   "cell_type": "code",
   "execution_count": null,
   "metadata": {
    "_cell_guid": "4d003a3c-8f64-4bcf-8296-143140055c09",
    "_uuid": "17fd0b34034a402f091ee3a2c931c2e8cd6154f3"
   },
   "outputs": [],
   "source": [
    "def good_markers_v1(m,c):\n",
    "    # threshold\n",
    "    m_b = m > threshold_otsu(m)\n",
    "    c_b = c > threshold_otsu(c)\n",
    "    \n",
    "    mk_ = np.where(c_b,0,m)\n",
    "    return mk_"
   ]
  },
  {
   "cell_type": "code",
   "execution_count": null,
   "metadata": {
    "_cell_guid": "2e9412a3-c246-4666-b0db-592d262b5efd",
    "_uuid": "8ed705230f7ccc8761be86c0881af41ac0f74ebd"
   },
   "outputs": [],
   "source": [
    "for idx in range(10):\n",
    "    print(idx)\n",
    "    mask = masks[idx]\n",
    "    contour = contours[idx]\n",
    "    cleaned_mask = clean_mask_v2(mask, contour)\n",
    "    good_markers = good_markers_v1(mask,contour)\n",
    "    gt = ground_truth[idx]\n",
    "    \n",
    "    plot_list(images = [mask,contour, cleaned_mask, good_markers],labels = [gt])"
   ]
  },
  {
   "cell_type": "markdown",
   "metadata": {
    "_cell_guid": "40f0377b-2eb3-451b-aade-7f51ab0d78d2",
    "_uuid": "de1e6f6b2088981a7ac8286b0bfae14e143bb8fe"
   },
   "source": [
    "## Problem 1 building markers on initial mask when we have better mask\n",
    "\n",
    "There is no point in using initial masks when we worked so hard on making them better right?\n",
    "\n",
    "Let's use our results from the first step"
   ]
  },
  {
   "cell_type": "code",
   "execution_count": null,
   "metadata": {
    "_cell_guid": "d772e5b5-e6c9-4d4d-a015-a4cfdd660740",
    "_uuid": "99d49f0596a2aee1eea986e79fac491988a6fb07"
   },
   "outputs": [],
   "source": [
    "def good_markers_v2(m_b,c):\n",
    "    # threshold\n",
    "    c_thresh = threshold_otsu(c)\n",
    "    c_b = c > c_thresh\n",
    "    \n",
    "    mk_ = np.where(c_b,0,m_b)\n",
    "    return mk_"
   ]
  },
  {
   "cell_type": "code",
   "execution_count": null,
   "metadata": {
    "_cell_guid": "f6b1cdef-879c-45b7-bd3c-4e05c6f31c2d",
    "_uuid": "1059c22bc09a25b32e6c18a967d07a193edbfc5d"
   },
   "outputs": [],
   "source": [
    "for idx in range(10):\n",
    "    print(idx)\n",
    "    mask = masks[idx]\n",
    "    contour = contours[idx]\n",
    "    cleaned_mask = clean_mask_v2(mask, contour)\n",
    "    good_markers = good_markers_v2(cleaned_mask,contour)\n",
    "    gt = ground_truth[idx]\n",
    "    \n",
    "    plot_list(images = [mask,contour, cleaned_mask, good_markers],labels = [gt])"
   ]
  },
  {
   "cell_type": "markdown",
   "metadata": {
    "_cell_guid": "10d212b8-0aeb-440d-9048-f13a3d042ca5",
    "_uuid": "dc9e80405ec7a6faeedb54700e5b209e20e55593"
   },
   "source": [
    "## Problem 2 some markers are to large and connected\n",
    "\n",
    "Unfortunately it is not perfect. If we have to connected cells and we have one connected marker for those cells watershed will not detach it. We need to make them better, smaller and positioned more in the center of nuceli.\n",
    "\n",
    "In order to get there we can use `binary_erosion` \n",
    "Let's first do what we know"
   ]
  },
  {
   "cell_type": "code",
   "execution_count": null,
   "metadata": {},
   "outputs": [],
   "source": [
    "m,c,t = dirty\n",
    "\n",
    "cleaned_mask = clean_mask_v2(m, c)\n",
    "\n",
    "c_b = c > threshold_otsu(c)\n",
    "mk_ = np.where(c_b,0,cleaned_mask)\n",
    "plot_list(images=[m,c,mk_],labels=[])"
   ]
  },
  {
   "cell_type": "markdown",
   "metadata": {},
   "source": [
    "For instance the two markers at the top left are still connected and will be treated as a single marker by the watershed. And nowe lets erode the markers"
   ]
  },
  {
   "cell_type": "code",
   "execution_count": null,
   "metadata": {},
   "outputs": [],
   "source": [
    "area, radius = mean_blob_size(m_b)\n",
    "struct_size = int(0.25*radius)\n",
    "struct_el = morph.disk(struct_size)\n",
    "m_padded = pad_mask(mk_, pad=struct_size)\n",
    "m_padded = morph.erosion(m_padded, selem=struct_el)\n",
    "mk_ = crop_mask(m_padded, crop=struct_size)\n",
    "plot_list(images=[m,c,mk_],labels=[])"
   ]
  },
  {
   "cell_type": "markdown",
   "metadata": {},
   "source": [
    "ok thats not bad if we now compare those markers with the labels we get the following"
   ]
  },
  {
   "cell_type": "code",
   "execution_count": null,
   "metadata": {},
   "outputs": [],
   "source": [
    "mk_,_ = ndi.label(mk_) \n",
    "plot_list(images=[cleaned_mask],labels=[mk_, t])"
   ]
  },
  {
   "cell_type": "markdown",
   "metadata": {},
   "source": [
    "So the markers and cleaned mask look really good!"
   ]
  },
  {
   "cell_type": "code",
   "execution_count": null,
   "metadata": {
    "_cell_guid": "25efc197-cb90-4c19-b9ef-0e74899f8837",
    "_uuid": "20944b83e6f10570cd8dc98d903b1d4c102f311d"
   },
   "outputs": [],
   "source": [
    "def good_markers_v3(m_b,c):\n",
    "    # threshold\n",
    "    c_b = c > threshold_otsu(c)\n",
    "    \n",
    "    mk_ = np.where(c_b,0,m_b)\n",
    "    \n",
    "    area, radius = mean_blob_size(m_b)\n",
    "    struct_size = int(0.25*radius)\n",
    "    struct_el = morph.disk(struct_size)\n",
    "    m_padded = pad_mask(mk_, pad=struct_size)\n",
    "    m_padded = morph.erosion(m_padded, selem=struct_el)\n",
    "    mk_ = crop_mask(m_padded, crop=struct_size)\n",
    "    mk_,_ = ndi.label(mk_) \n",
    "    return mk_"
   ]
  },
  {
   "cell_type": "code",
   "execution_count": null,
   "metadata": {
    "_cell_guid": "bfd39165-8b6d-49ed-acaf-c1e14a59c658",
    "_uuid": "1d94fddd27cf6a56fe42812c7d4daaa293f8623d"
   },
   "outputs": [],
   "source": [
    "for idx in range(10):\n",
    "    print(idx)\n",
    "    mask = masks[idx]\n",
    "    contour = contours[idx]\n",
    "    cleaned_mask = clean_mask_v2(mask, contour)\n",
    "    good_markers = good_markers_v3(cleaned_mask,contour)\n",
    "    gt = ground_truth[idx]\n",
    "    \n",
    "    plot_list(images = [mask,contour, cleaned_mask],labels = [good_markers, gt])"
   ]
  },
  {
   "cell_type": "markdown",
   "metadata": {
    "_cell_guid": "783c55e9-0878-4333-a63a-17963708cf03",
    "_uuid": "1d63a738d5ce9fa21cef5649c58e71159a1929db"
   },
   "source": [
    "## Problem 3 still some barely connected markers are left\n",
    "\n",
    "Unfortunately for some images the markers are not eroded enough and are left connected (look at the orange blob at the bottom right corner in the forth column).\n",
    "Some tweaking should improve it but beware that for other images it might decrease the score."
   ]
  },
  {
   "cell_type": "code",
   "execution_count": null,
   "metadata": {
    "_cell_guid": "ae2ca212-ba0e-46e4-a816-031010a972f3",
    "_uuid": "01b37fbded42deda0f54f8098bdb1b9669ccec69"
   },
   "outputs": [],
   "source": [
    "for idx in [25,27]:\n",
    "    print(idx)\n",
    "    mask = masks[idx]\n",
    "    contour = contours[idx]\n",
    "    cleaned_mask = clean_mask_v2(mask, contour)\n",
    "    good_markers = good_markers_v3(cleaned_mask,contour)\n",
    "    gt = ground_truth[idx]\n",
    "    \n",
    "    plot_list(images = [mask,contour, cleaned_mask],labels = [good_markers, gt])"
   ]
  },
  {
   "cell_type": "markdown",
   "metadata": {
    "_cell_guid": "b48be6fd-284a-41e3-af0f-3f18fef06003",
    "_uuid": "601b1d3a58a4c6a6d45384a4e390ebf71d37e806"
   },
   "source": [
    "## Problem 4 we are dropping markers on many images with small cells"
   ]
  },
  {
   "cell_type": "markdown",
   "metadata": {
    "_cell_guid": "7e4d4f90-6a8f-4d9a-b6ed-c97b089a2147",
    "_uuid": "98c120d3dfd88b2652aa30b3d784433dd17b8fe8"
   },
   "source": [
    "## Ideas\n",
    "* play with binary closing/opening\n",
    "* involve contours and/or centers in this\n",
    "* we will asume that lost markers are in facet small cells that don't need to be divided and we will get back all the cells that were dropped in watershed\n",
    "* use local maxima on distance transform"
   ]
  },
  {
   "cell_type": "code",
   "execution_count": null,
   "metadata": {
    "_cell_guid": "ccc963c0-33bb-41bc-a8f9-5743ba428e52",
    "_uuid": "bb50557a798b78fddb2fe71bf2cd9daeaabd9855"
   },
   "outputs": [],
   "source": [
    "def good_markers_v4(m_b,c):\n",
    "    return"
   ]
  },
  {
   "cell_type": "markdown",
   "metadata": {
    "_cell_guid": "6612f916-93ef-4823-8d98-3584a8f0527e",
    "_uuid": "9c90fe31a9268d7277fcf8adb438ffe4dc2580fe"
   },
   "source": [
    "# Good distance\n",
    "\n",
    "Here I have no better idea than to use the binary distance from the background.\n",
    "Feel free to improve on that!"
   ]
  },
  {
   "cell_type": "code",
   "execution_count": null,
   "metadata": {
    "_cell_guid": "84e89f6a-d729-4ab7-8e0b-634f0132ea20",
    "_uuid": "588448523a4c391e4607b5a2cc9153ef01fa0113"
   },
   "outputs": [],
   "source": [
    "def good_distance_v1(m_b):\n",
    "    distance = ndi.distance_transform_edt(m_b)\n",
    "    return distance"
   ]
  },
  {
   "cell_type": "code",
   "execution_count": null,
   "metadata": {
    "_cell_guid": "d9cbe4bf-78bd-40d9-b495-6f3c15ecfcec",
    "_uuid": "cb2b3774661d5d16d606d4d002c8f0600d592993"
   },
   "outputs": [],
   "source": [
    "for idx in range(10):\n",
    "    print(idx)\n",
    "    mask = masks[idx]\n",
    "    contour = contours[idx]\n",
    "    cleaned_mask = clean_mask_v2(mask, contour)\n",
    "    good_markers = good_markers_v3(cleaned_mask,contour)\n",
    "    good_distance = good_distance_v1(cleaned_mask)\n",
    "    gt = ground_truth[idx]\n",
    "    \n",
    "    plot_list(images = [cleaned_mask, good_distance],labels = [good_markers, gt])"
   ]
  },
  {
   "cell_type": "markdown",
   "metadata": {
    "_cell_guid": "bdc0d197-7fc6-4c70-8b0d-c92cbf0d2e5a",
    "_uuid": "defed4ff857996c6fb60533af937f41488ecc3f7"
   },
   "source": [
    "## Idea\n",
    "* investigate imposing some gradients on original image or good clean mask"
   ]
  },
  {
   "cell_type": "markdown",
   "metadata": {
    "_cell_guid": "93c0e83c-8466-4dad-9e17-a18620adbb08",
    "_uuid": "36838b98d6f2699226160367b764f3478159665e"
   },
   "source": [
    "## Watershed\n",
    "\n",
    "Now that we have good masks, markersa and distance we can proceed to the watershed algorithm.\n",
    "\n",
    "Let's try the simplest option without any tweaks"
   ]
  },
  {
   "cell_type": "code",
   "execution_count": null,
   "metadata": {
    "_cell_guid": "bfe38b60-b178-4ad9-8c38-9c6cee6ccc3d",
    "_uuid": "cfcdb473752f380b2cad9389ab6a780c023d6ada"
   },
   "outputs": [],
   "source": [
    "def watershed_v1(mask, contour):\n",
    "    cleaned_mask = clean_mask_v2(mask, contour)\n",
    "    good_markers = good_markers_v3(cleaned_mask,contour)\n",
    "    good_distance = good_distance_v1(cleaned_mask)\n",
    "    \n",
    "    water = morph.watershed(-good_distance, good_markers, mask=cleaned_mask)\n",
    "    \n",
    "    return water"
   ]
  },
  {
   "cell_type": "code",
   "execution_count": null,
   "metadata": {
    "_cell_guid": "51c74b30-9e68-4a9c-9e2d-1efaa71edbf0",
    "_uuid": "fa7e2fd1760d2c887c97a8dab3c0deea012aa9c5"
   },
   "outputs": [],
   "source": [
    "for idx in range(5):\n",
    "    print(idx)\n",
    "    mask = masks[idx]\n",
    "    contour = contours[idx]\n",
    "    cleaned_mask = clean_mask_v2(mask, contour)\n",
    "    good_markers = good_markers_v3(cleaned_mask,contour)\n",
    "    good_distance = good_distance_v1(cleaned_mask)\n",
    "    \n",
    "    water = watershed_v1(mask, contour)\n",
    "    \n",
    "    gt = ground_truth[idx]\n",
    "    \n",
    "    plot_list(images = [cleaned_mask, good_distance],labels = [good_markers, water,gt])"
   ]
  },
  {
   "cell_type": "markdown",
   "metadata": {
    "_cell_guid": "93021b4c-ec81-48ff-bae6-57973bf0933b",
    "_uuid": "f857a9d54e57b3710d1407ff49081260a0bea81b"
   },
   "source": [
    "## Problem 1 some cells are dumped\n",
    "## Problem 2 some artifacts from mask_cleaning remain\n",
    "\n",
    "Unfortunatelly some cells are dropped, some cells are oversegmented and some artifacts from the mask cleaning still remain.\n",
    "\n",
    "The good thing is we can deal with some of those problems by using ideas we have already tried. \n",
    "\n",
    "By the way do you know why the cells that are visible on the mask are sometimes dropped in the watershed?\n",
    "\n",
    "I will not answer it know but simply solve it by adding the dropped cells to the output."
   ]
  },
  {
   "cell_type": "code",
   "execution_count": null,
   "metadata": {},
   "outputs": [],
   "source": [
    "def add_dropped_water_blobs(water, mask_cleaned):\n",
    "    water_mask = (water > 0).astype(np.uint8)\n",
    "    dropped = mask_cleaned - water_mask\n",
    "    dropped, _ = ndi.label(dropped)\n",
    "    dropped = np.where(dropped, dropped + water.max(), 0)\n",
    "    water = water + dropped\n",
    "    return water"
   ]
  },
  {
   "cell_type": "markdown",
   "metadata": {},
   "source": [
    "When it comes to artifacts left we will recycle the idea of dropping cells that weren't visible on the initial image.\n",
    "Only difference is that now we need to iterate over connected components and apply drop artifacts to each component. \n",
    "\n",
    "Remember that some cells that are touching are detached by watershed."
   ]
  },
  {
   "cell_type": "code",
   "execution_count": null,
   "metadata": {
    "_uuid": "ae31ef2dd07d2e8e20e55c4363fdba2faa4ada31"
   },
   "outputs": [],
   "source": [
    "def drop_artifacts_per_label(labels, initial_mask):\n",
    "    labels_cleaned = np.zeros_like(labels)\n",
    "    for i in `\n",
    "        component = np.where(labels == i, 1, 0)\n",
    "        component_initial_mask = np.where(labels == i, initial_mask, 0)\n",
    "        component = drop_artifacts(component, component_initial_mask)\n",
    "        labels_cleaned = labels_cleaned + component * i\n",
    "    return labels_cleaned"
   ]
  },
  {
   "cell_type": "markdown",
   "metadata": {},
   "source": [
    "Ok putting it all together gives us:"
   ]
  },
  {
   "cell_type": "code",
   "execution_count": null,
   "metadata": {
    "_cell_guid": "c5fba24d-3f8e-4437-bcb5-c6fd69215fb2",
    "_uuid": "1206686af7428124fd64b6d0721d7b5b28a1a3a4"
   },
   "outputs": [],
   "source": [
    "def watershed_v2(mask, contour):\n",
    "    cleaned_mask = clean_mask_v2(mask, contour)\n",
    "    good_markers = good_markers_v3(cleaned_mask,contour)\n",
    "    good_distance = good_distance_v1(cleaned_mask)\n",
    "    \n",
    "    water = morph.watershed(-good_distance, good_markers, mask=cleaned_mask)\n",
    "    \n",
    "    water = add_dropped_water_blobs(water, cleaned_mask)\n",
    "    \n",
    "    m_thresh = threshold_otsu(mask)\n",
    "    initial_mask_binary = (mask > m_thresh).astype(np.uint8)\n",
    "    water = drop_artifacts_per_label(water,initial_mask_binary)\n",
    "    return water"
   ]
  },
  {
   "cell_type": "code",
   "execution_count": null,
   "metadata": {
    "_cell_guid": "a17d8128-a18f-49bb-8c31-47b98d80506f",
    "_uuid": "0839fd6d92dce43d754ee09525286a3986282856",
    "scrolled": true
   },
   "outputs": [],
   "source": [
    "for idx in range(10):\n",
    "    print(idx)\n",
    "    mask = masks[idx]\n",
    "    contour = contours[idx]\n",
    "    cleaned_mask = clean_mask_v2(mask, contour)\n",
    "    good_markers = good_markers_v3(cleaned_mask,contour)\n",
    "    good_distance = good_distance_v1(cleaned_mask)\n",
    "    \n",
    "    water = watershed_v2(mask, contour)\n",
    "    \n",
    "    gt = ground_truth[idx]\n",
    "    \n",
    "    plot_list(images = [cleaned_mask, good_distance],labels = [good_markers, water,gt])"
   ]
  },
  {
   "cell_type": "markdown",
   "metadata": {
    "_cell_guid": "41103967-50e6-420e-8e0d-bbbee8dde3fb",
    "_uuid": "1338fdee70b1ad0b15e0590b26f68d730866e347"
   },
   "source": [
    "## Problem 3 some cells are oversemgmented and small cell chunks remain\n",
    "\n",
    "Now some small pieces of cells may remain at this point or the cells could get oversegmented.\n",
    "We will deal with that by dropping to small to be a cell blobs. However when we drop them and those oversegmentations happen in the middle of the cell we might end up with a hole. That is why we will iterate over every connected component and apply `binary_fill_hole` to it to remove that problem."
   ]
  },
  {
   "cell_type": "code",
   "execution_count": null,
   "metadata": {
    "_cell_guid": "5dae75f3-3cd2-41be-af75-f9941430ca30",
    "_uuid": "d747811d4cb4af72b94b9e50bfd40086a9dda2af"
   },
   "outputs": [],
   "source": [
    "from itertools import product\n",
    "\n",
    "def relabel(img):\n",
    "    h, w = img.shape\n",
    "\n",
    "    relabel_dict = {}\n",
    "\n",
    "    for i, k in enumerate(np.unique(img)):\n",
    "        if k == 0:\n",
    "            relabel_dict[k] = 0\n",
    "        else:\n",
    "            relabel_dict[k] = i\n",
    "    for i, j in product(range(h), range(w)):\n",
    "        img[i, j] = relabel_dict[img[i, j]]\n",
    "    return img\n",
    "\n",
    "def drop_small(img, min_size):\n",
    "    img = morph.remove_small_objects(img, min_size=min_size)\n",
    "    return relabel(img)\n",
    "\n",
    "def fill_holes_per_blob(image):\n",
    "    image_cleaned = np.zeros_like(image)\n",
    "    for i in range(1, image.max() + 1):\n",
    "        mask = np.where(image == i, 1, 0)\n",
    "        mask = ndi.morphology.binary_fill_holes(mask)\n",
    "        image_cleaned = image_cleaned + mask * i\n",
    "    return image_cleaned"
   ]
  },
  {
   "cell_type": "code",
   "execution_count": null,
   "metadata": {
    "_cell_guid": "798dc297-161e-40e8-8443-fc1fa79bde00",
    "_uuid": "41285d09c62a07678e1f4b5896cc3ea3a6574de5"
   },
   "outputs": [],
   "source": [
    "def watershed_v3(mask, contour):\n",
    "    cleaned_mask = clean_mask_v2(mask, contour)\n",
    "    good_markers = good_markers_v3(cleaned_mask,contour)\n",
    "    good_distance = good_distance_v1(cleaned_mask)\n",
    "    \n",
    "    labels = morph.watershed(-good_distance, good_markers, mask=cleaned_mask)\n",
    "    \n",
    "    labels = add_dropped_water_blobs(labels, cleaned_mask)\n",
    "    \n",
    "    m_thresh = threshold_otsu(mask)\n",
    "    initial_mask_binary = (mask > m_thresh).astype(np.uint8)\n",
    "    labels = drop_artifacts_per_label(labels,initial_mask_binary)\n",
    "    \n",
    "    labels = drop_small(labels, min_size=20)\n",
    "    labels = fill_holes_per_blob(labels)\n",
    "        \n",
    "    return labels"
   ]
  },
  {
   "cell_type": "code",
   "execution_count": null,
   "metadata": {
    "_cell_guid": "1a586267-bbfe-47c6-9c5a-f28fae3826ea",
    "_uuid": "e645ba50b0f1febd30af03aa80d2c7ffcbea4dae"
   },
   "outputs": [],
   "source": [
    "for idx in range(10):\n",
    "    print(idx)\n",
    "    mask = masks[idx]\n",
    "    contour = contours[idx]\n",
    "    cleaned_mask = clean_mask_v2(mask, contour)\n",
    "    good_markers = good_markers_v3(cleaned_mask,contour)\n",
    "    good_distance = good_distance_v1(cleaned_mask)\n",
    "    \n",
    "    water = watershed_v3(mask, contour)\n",
    "    \n",
    "    gt = ground_truth[idx]\n",
    "    \n",
    "    plot_list(images = [cleaned_mask, good_distance],labels = [good_markers, water,gt])"
   ]
  },
  {
   "cell_type": "markdown",
   "metadata": {
    "_cell_guid": "cd830bed-fb0e-44f5-a52a-2d551bf7e539",
    "_uuid": "90e0d296d084cd9d985ef6285ea07993d12ab43f"
   },
   "source": [
    "Voila! \n",
    "\n",
    "This solution works reasonably well. Of course there is still a lot of room for improvement.\n",
    "\n",
    "For cells that get oversegmented we should implement a function that glues those oversegmented cells together rather than drop them. \n",
    "\n",
    "But that I will leave for you to create!\n",
    "\n",
    "If you liked the solution and would like to see how it works as a part of the end-to-end pipeline please go to:\n",
    "\n",
    "https://github.com/neptune-ml/data-science-bowl-2018\n",
    "\n",
    "To stay up to date with new features and fully open sourced solution (with predictions) read our data science bowl journal thread https://www.kaggle.com/c/data-science-bowl-2018/discussion/47590 \n",
    "\n",
    "Cheers and good luck!"
   ]
  },
  {
   "cell_type": "code",
   "execution_count": null,
   "metadata": {
    "_cell_guid": "3c46c1e1-2f65-4be7-b681-116fce61757e",
    "_uuid": "436322ba39993e67aaabd329f63e179b70416776"
   },
   "outputs": [],
   "source": []
  }
 ],
 "metadata": {
  "kernelspec": {
   "display_name": "dl_py3",
   "language": "python",
   "name": "dl_py3"
  },
  "language_info": {
   "codemirror_mode": {
    "name": "ipython",
    "version": 3
   },
   "file_extension": ".py",
   "mimetype": "text/x-python",
   "name": "python",
   "nbconvert_exporter": "python",
   "pygments_lexer": "ipython3",
   "version": "3.5.2"
  }
 },
 "nbformat": 4,
 "nbformat_minor": 1
}
