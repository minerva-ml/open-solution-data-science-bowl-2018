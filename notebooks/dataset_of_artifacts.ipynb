{
 "cells": [
  {
   "cell_type": "markdown",
   "metadata": {},
   "source": [
    "# Dataset of non nuclei images\n",
    "\n",
    "We prepared a small dataset of images that contain no nuclei and can be added to training in order to help your model deal with some artifacts."
   ]
  },
  {
   "cell_type": "code",
   "execution_count": null,
   "metadata": {},
   "outputs": [],
   "source": [
    "%matplotlib inline\n",
    "%load_ext autoreload\n",
    "%autoreload 2\n",
    "\n",
    "import math\n",
    "import matplotlib.pyplot as plt\n",
    "from sklearn.externals import joblib\n",
    "\n",
    "def plot_list(images=[], labels=[], n_rows=1):\n",
    "    n_img = len(images)\n",
    "    n_lab = len(labels)\n",
    "    n_cols = math.ceil((n_lab+n_img)/n_rows)\n",
    "    plt.figure(figsize=(12,10))\n",
    "    for i, image in enumerate(images):\n",
    "        plt.subplot(n_rows,n_cols,i+1)\n",
    "        plt.imshow(image)\n",
    "    for j, label in enumerate(labels):\n",
    "        plt.subplot(n_rows,n_cols,n_img+j+1)\n",
    "        plt.imshow(label, cmap='nipy_spectral')\n",
    "    plt.show()"
   ]
  },
  {
   "cell_type": "code",
   "execution_count": null,
   "metadata": {},
   "outputs": [],
   "source": [
    "non_nuclei_images = joblib.load('/mnt/ml-team/minerva/dsb_2018_data/kaggle_kernels_data/non_nuclei_images.pkl')"
   ]
  },
  {
   "cell_type": "code",
   "execution_count": null,
   "metadata": {},
   "outputs": [],
   "source": [
    "plot_list(non_nuclei_images, n_rows=3)"
   ]
  },
  {
   "cell_type": "markdown",
   "metadata": {},
   "source": [
    "# Full pipeline\n",
    "If you would like to see how we plugged this data in just go to our [open solution](https://github.com/neptune-ml/open-solution-data-science-bowl-2018)\n",
    "\n",
    "![full open solution pipeline](https://gist.githubusercontent.com/jakubczakon/10e5eb3d5024cc30cdb056d5acd3d92f/raw/e85c1da3acfe96123d0ff16f8145913ee65e938c/full_pipeline.png)\n",
    "\n",
    "In the `main.py` of the `dev-patching` branch we have a function that generates metadata that looks like this:\n",
    "\n",
    "```python\n",
    "@action.command()\n",
    "def prepare_metadata():\n",
    "    logger.info('creating metadata')\n",
    "    meta = generate_metadata(data_dir=params.data_dir,\n",
    "                             masks_overlayed_dir=params.masks_overlayed_dir,\n",
    "                             contours_overlayed_dir=params.contours_overlayed_dir,\n",
    "                             contours_touching_overlayed_dir=params.contours_touching_overlayed_dir,\n",
    "                             centers_overlayed_dir=params.centers_overlayed_dir)\n",
    "    logger.info('calculating clusters')\n",
    "    meta_train = meta[meta['is_train'] == 1]\n",
    "    meta_test = meta[meta['is_train'] == 0]\n",
    "    vgg_features_clusters = get_vgg_clusters(meta_train)\n",
    "    meta_train['vgg_features_clusters'] = vgg_features_clusters\n",
    "    meta_test['vgg_features_clusters'] = 'NaN'\n",
    "    meta = pd.concat([meta_train, meta_test], axis=0)\n",
    "\n",
    "    logger.info('adding artifacts metadata')\n",
    "    meta_artifacts = build_artifacts_metadata(artifacts_dir=params.artifacts_dir)\n",
    "    meta = pd.concat([meta, meta_artifacts], axis=0)\n",
    "\n",
    "    meta.to_csv(os.path.join(params.meta_dir, 'stage1_metadata.csv'), index=None)\n",
    "```\n",
    "\n",
    "Feel free to use it in your solution.\n",
    "Good luck!"
   ]
  },
  {
   "cell_type": "code",
   "execution_count": null,
   "metadata": {},
   "outputs": [],
   "source": []
  }
 ],
 "metadata": {
  "kernelspec": {
   "display_name": "dl_py3",
   "language": "python",
   "name": "dl_py3"
  },
  "language_info": {
   "codemirror_mode": {
    "name": "ipython",
    "version": 3
   },
   "file_extension": ".py",
   "mimetype": "text/x-python",
   "name": "python",
   "nbconvert_exporter": "python",
   "pygments_lexer": "ipython3",
   "version": "3.5.2"
  }
 },
 "nbformat": 4,
 "nbformat_minor": 2
}
