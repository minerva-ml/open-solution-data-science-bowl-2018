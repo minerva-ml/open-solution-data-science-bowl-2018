{
 "cells": [
  {
   "cell_type": "markdown",
   "metadata": {},
   "source": [
    "# Stain deconvolution\n",
    "\n",
    "There are a few modalities of images in the dataset. \n",
    "The majority of images is actually greyscale broadcasted to 3 channels. \n",
    "The rest of the images the *actual* rgb images are stained with hematoxylin and eosin (atleast to my knowledge).\n",
    "\n",
    "One can use that information to do stain deconvolution on rgb images and transform the dataset so that all images have just 1 intensity channel. We will approach this problem in this notebook."
   ]
  },
  {
   "cell_type": "code",
   "execution_count": null,
   "metadata": {},
   "outputs": [],
   "source": [
    "%matplotlib inline\n",
    "%load_ext autoreload\n",
    "%autoreload 2\n",
    "\n",
    "import numpy as np\n",
    "import math\n",
    "import matplotlib.pyplot as plt\n",
    "from skimage.color import rgb2grey, rgb2hed\n",
    "from skimage.exposure import rescale_intensity\n",
    "from sklearn.externals import joblib\n",
    "\n",
    "\n",
    "def plot_list(images=[], labels=[], n_rows=1):\n",
    "    n_img = len(images)\n",
    "    n_lab = len(labels)\n",
    "    n_cols = math.ceil((n_lab+n_img)/n_rows)\n",
    "    plt.figure(figsize=(12,10))\n",
    "    for i, image in enumerate(images):\n",
    "        plt.subplot(n_rows,n_cols,i+1)\n",
    "        plt.imshow(image)\n",
    "    for j, label in enumerate(labels):\n",
    "        plt.subplot(n_rows,n_cols,n_img+j+1)\n",
    "        plt.imshow(label, cmap='nipy_spectral')\n",
    "    plt.show()"
   ]
  },
  {
   "cell_type": "code",
   "execution_count": null,
   "metadata": {},
   "outputs": [],
   "source": [
    "sample_images = joblib.load('/mnt/ml-team/minerva/dsb_2018_data/kaggle_kernels_data/sample_stained_not_stained_images.pkl')"
   ]
  },
  {
   "cell_type": "markdown",
   "metadata": {},
   "source": [
    "Let's take a look at some example images from the dataset"
   ]
  },
  {
   "cell_type": "code",
   "execution_count": null,
   "metadata": {},
   "outputs": [],
   "source": [
    "plot_list(sample_images,n_rows=4)"
   ]
  },
  {
   "cell_type": "markdown",
   "metadata": {},
   "source": [
    "# Stained Image filter\n",
    "\n",
    "Before we extract hematoxylin and eosin staining we need to first filter the rgb images. \n",
    "Very simple approach is to do the following:"
   ]
  },
  {
   "cell_type": "code",
   "execution_count": null,
   "metadata": {},
   "outputs": [],
   "source": [
    "def is_stained(img):\n",
    "    red_mean, green_mean, blue_mean = img.mean(axis=(0, 1))\n",
    "    if red_mean == green_mean == blue_mean:\n",
    "        return False\n",
    "    else:\n",
    "        return True"
   ]
  },
  {
   "cell_type": "markdown",
   "metadata": {},
   "source": [
    "# Deconvolution\n",
    "Now that we have we will extract those h and e channels from images with the use of `rgb2hed` function. \n",
    "\n",
    "Let's see what it does:"
   ]
  },
  {
   "cell_type": "code",
   "execution_count": null,
   "metadata": {},
   "outputs": [],
   "source": [
    "for img in sample_images:\n",
    "    if is_stained(img):\n",
    "        img_hed = rgb2hed(img)\n",
    "        img_hematoxilin = img_hed[:,:,0]\n",
    "        img_eosin = img_hed[:,:,1]\n",
    "        img_dab = img_hed[:,:,2]\n",
    "\n",
    "        plot_list([img, img_hematoxilin, img_eosin, img_dab])"
   ]
  },
  {
   "cell_type": "markdown",
   "metadata": {},
   "source": [
    "Now we can write a function that takes hematoxyli and eosin channels and combines them together.\n",
    "We will parametrize which channels user wants to use as well."
   ]
  },
  {
   "cell_type": "code",
   "execution_count": null,
   "metadata": {},
   "outputs": [],
   "source": [
    "def stain_deconvolve(img, mode='hematoxylin_eosin_sum'):\n",
    "    img_hed = rgb2hed(img)\n",
    "    if mode == 'hematoxylin_eosin_sum':\n",
    "        h, w = img.shape[:2]\n",
    "        img_hed = rgb2hed(img)\n",
    "        img_he_sum = np.zeros((h, w, 2))\n",
    "        img_he_sum[:, :, 0] = rescale_intensity(img_hed[:, :, 0], out_range=(0, 1))\n",
    "        img_he_sum[:, :, 1] = rescale_intensity(img_hed[:, :, 1], out_range=(0, 1))\n",
    "        img_deconv = rescale_intensity(img_he_sum.sum(axis=2), out_range=(0, 1))\n",
    "    elif mode == 'hematoxylin':\n",
    "        img_deconv = img_hed[:, :, 0]\n",
    "    elif mode == 'eosin':\n",
    "        img_deconv = img_hed[:, :, 1]\n",
    "    else:\n",
    "        raise NotImplementedError('only hematoxylin_eosin_sum, hematoxylin, eosin modes are supported')\n",
    "    return img_deconv"
   ]
  },
  {
   "cell_type": "markdown",
   "metadata": {},
   "source": [
    "Let's see the results and compare how does this intensity differs from taking a simple greyscale."
   ]
  },
  {
   "cell_type": "code",
   "execution_count": null,
   "metadata": {
    "scrolled": false
   },
   "outputs": [],
   "source": [
    "for img in sample_images:\n",
    "    if is_stained(img):\n",
    "        deconv = stain_deconvolve(img)\n",
    "        grey = 1-rgb2grey(img)\n",
    "        plot_list([img, grey, deconv])"
   ]
  },
  {
   "cell_type": "markdown",
   "metadata": {},
   "source": [
    "The difference is not huge but for some images, for instance the 3rd image we were able to extract a cleaner image with `stain_deconvolve` than with `greyscale`. "
   ]
  },
  {
   "cell_type": "markdown",
   "metadata": {},
   "source": [
    "# Full pipeline\n",
    "If you would like to see how we plugged stain deconvolution into our pipeline go to [open solution](https://github.com/neptune-ml/open-solution-data-science-bowl-2018)\n",
    "\n",
    "![full open solution pipeline](https://gist.githubusercontent.com/jakubczakon/10e5eb3d5024cc30cdb056d5acd3d92f/raw/e85c1da3acfe96123d0ff16f8145913ee65e938c/full_pipeline.png)\n",
    "\n",
    "The stain deconvolution step is defined in the `preprocessing.py` file:\n",
    "\n",
    "```python \n",
    "\n",
    "class StainDeconvolution(BaseTransformer):\n",
    "    def __init__(self, mode):\n",
    "        self.mode = mode\n",
    "\n",
    "    def transform(self, X):\n",
    "        X_deconvoled = []\n",
    "        for x in X[0]:\n",
    "            x = from_pil(x)\n",
    "            if is_stained(x):\n",
    "                x_deconv = (stain_deconvolve(x, mode=self.mode) * 255).astype(np.uint8)\n",
    "            else:\n",
    "                x_deconv = (rgb2grey(x) * 255).astype(np.uint8)\n",
    "            x_deconv = to_pil(x_deconv)\n",
    "            X_deconvoled.append(x_deconv)\n",
    "        return {'X': [X_deconvoled]}\n",
    "```\n",
    "\n",
    "If you want to use our implementation just go for it!"
   ]
  },
  {
   "cell_type": "code",
   "execution_count": null,
   "metadata": {},
   "outputs": [],
   "source": []
  }
 ],
 "metadata": {
  "kernelspec": {
   "display_name": "dl_py3",
   "language": "python",
   "name": "dl_py3"
  },
  "language_info": {
   "codemirror_mode": {
    "name": "ipython",
    "version": 3
   },
   "file_extension": ".py",
   "mimetype": "text/x-python",
   "name": "python",
   "nbconvert_exporter": "python",
   "pygments_lexer": "ipython3",
   "version": "3.5.2"
  }
 },
 "nbformat": 4,
 "nbformat_minor": 2
}
